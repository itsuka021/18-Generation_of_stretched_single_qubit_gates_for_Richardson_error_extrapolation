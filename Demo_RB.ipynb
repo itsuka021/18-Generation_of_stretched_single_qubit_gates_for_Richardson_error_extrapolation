{
 "cells": [
  {
   "cell_type": "code",
   "execution_count": 1,
   "outputs": [],
   "source": [
    "import numpy as np\n",
    "import matplotlib.pyplot as plt\n",
    "from copy import deepcopy\n",
    "\n",
    "import qiskit\n",
    "from qiskit import IBMQ, pulse, QuantumCircuit, execute, transpile, Aer, assemble\n",
    "from qiskit.pulse import library, Schedule, Play, ShiftPhase, DriveChannel\n",
    "from qiskit.pulse.macros import measure\n",
    "\n",
    "import qiskit.ignis.verification.randomized_benchmarking as rb"
   ],
   "metadata": {
    "collapsed": false,
    "pycharm": {
     "name": "#%%\n"
    }
   }
  },
  {
   "cell_type": "code",
   "execution_count": 2,
   "outputs": [
    {
     "name": "stderr",
     "output_type": "stream",
     "text": [
      "/home/baisiang/miniconda3/envs/Qiskitenv/lib/python3.8/site-packages/qiskit/providers/ibmq/ibmqfactory.py:192: UserWarning: Timestamps in IBMQ backend properties, jobs, and job results are all now in local time instead of UTC.\n",
      "  warnings.warn('Timestamps in IBMQ backend properties, jobs, and job results '\n"
     ]
    }
   ],
   "source": [
    "# load IBMQ account and armonk backend\n",
    "IBMQ.load_account()\n",
    "armonk_real = IBMQ.providers()[0].backends.ibmq_armonk\n",
    "# depcopy the inst_map of backend\n",
    "origin_inst_map = deepcopy(armonk_real.defaults().instruction_schedule_map)"
   ],
   "metadata": {
    "collapsed": false,
    "pycharm": {
     "name": "#%%\n"
    }
   }
  },
  {
   "cell_type": "code",
   "execution_count": 4,
   "outputs": [],
   "source": [
    "# import function to modify int_map in the given backend\n",
    "\n",
    "from functions.backend_modification  import mod_inst_map"
   ],
   "metadata": {
    "collapsed": false,
    "pycharm": {
     "name": "#%%\n"
    }
   }
  },
  {
   "cell_type": "code",
   "execution_count": 6,
   "outputs": [
    {
     "name": "stdout",
     "output_type": "stream",
     "text": [
      "Original Parameters\n",
      "{'duration': 640, 'amp': (0.6520131433706463+0j), 'sigma': 160, 'beta': -4.673452668589311}\n",
      "{'duration': 640, 'amp': (0.3164134858326646-0.010918616694945305j), 'sigma': 160, 'beta': -4.673823483923585}\n",
      "Modified Parameters\n",
      "{'duration': 1920, 'amp': (0.2173377144568821+0j), 'sigma': 480, 'beta': -4.673452668589311}\n",
      "{'duration': 1920, 'amp': (0.10547116194422153-0.003639538898315102j), 'sigma': 480, 'beta': -4.673823483923585}\n"
     ]
    }
   ],
   "source": [
    "# test the function\n",
    "new_inst_map = mod_inst_map(origin_inst_map, 3, [0])\n",
    "armonk_real.defaults().instruction_schedule_map = new_inst_map"
   ],
   "metadata": {
    "collapsed": false,
    "pycharm": {
     "name": "#%%\n"
    }
   }
  },
  {
   "cell_type": "code",
   "execution_count": 7,
   "outputs": [],
   "source": [
    "# Randomized Benchmarking\n",
    "\n",
    "# set parameters\n",
    "#Number of qubits\n",
    "nQ = 1\n",
    "\n",
    "#Number of seeds (random sequences)\n",
    "nseeds = 10\n",
    "\n",
    "#Number of Cliffords in the sequence (start, stop, steps)\n",
    "# nCliffs = np.arange(1, 200, 10)\n",
    "nCliffs = [1, 10, 20, 50, 75, 100, 125, 150, 175, 200]\n",
    "\n",
    "#2Q RB on Q0,Q2 and 1Q RB on Q1\n",
    "rb_pattern = [[0]]\n",
    "\n",
    "#Do three times as any 1Q Cliffords\n",
    "length_multiplier = 1\n",
    "\n",
    "rb_opts = {'length_vector': nCliffs,\n",
    "           'nseeds': nseeds,\n",
    "           'rb_pattern': rb_pattern,\n",
    "           'group_gates': 'Clifford'}\n",
    "\n",
    "rb_circs, xdata = rb.randomized_benchmarking_seq(**rb_opts)\n"
   ],
   "metadata": {
    "collapsed": false,
    "pycharm": {
     "name": "#%%\n"
    }
   }
  },
  {
   "cell_type": "code",
   "execution_count": 9,
   "outputs": [],
   "source": [
    "# import function for measurement error mitigation\n",
    "from qiskit.ignis.mitigation.measurement import (complete_meas_cal,CompleteMeasFitter)"
   ],
   "metadata": {
    "collapsed": false,
    "pycharm": {
     "name": "#%%\n"
    }
   }
  },
  {
   "cell_type": "code",
   "execution_count": 10,
   "outputs": [
    {
     "name": "stdout",
     "output_type": "stream",
     "text": [
      "[[0.95910645 0.0760498 ]\n",
      " [0.04089355 0.9239502 ]]\n"
     ]
    }
   ],
   "source": [
    "# mitigate measurement error\n",
    "# this should be calibrated everyday\n",
    "initial_layout = [0]\n",
    "qr = qiskit.QuantumRegister(1)\n",
    "meas_calibs, state_labels = complete_meas_cal(qr=qr, circlabel='mcal')\n",
    "job = qiskit.execute(meas_calibs, backend = armonk_real, shots=8192, initial_layout=initial_layout)\n",
    "cal_results = job.result()\n",
    "meas_fitter = CompleteMeasFitter(cal_results, state_labels, circlabel='mcal')\n",
    "print(meas_fitter.cal_matrix)"
   ],
   "metadata": {
    "collapsed": false,
    "pycharm": {
     "name": "#%%\n"
    }
   }
  },
  {
   "cell_type": "code",
   "execution_count": 11,
   "outputs": [],
   "source": [
    "# Get the filter object\n",
    "meas_filter = meas_fitter.filter"
   ],
   "metadata": {
    "collapsed": false,
    "pycharm": {
     "name": "#%%\n"
    }
   }
  },
  {
   "cell_type": "code",
   "execution_count": null,
   "outputs": [
    {
     "name": "stdout",
     "output_type": "stream",
     "text": [
      "Cj =  1\n",
      "Original Parameters\n",
      "{'duration': 640, 'amp': (0.6520131433706463+0j), 'sigma': 160, 'beta': -4.673452668589311}\n",
      "{'duration': 640, 'amp': (0.3164134858326646-0.010918616694945305j), 'sigma': 160, 'beta': -4.673823483923585}\n",
      "Modified Parameters\n",
      "{'duration': 640, 'amp': (0.6520131433706463+0j), 'sigma': 160, 'beta': -4.673452668589311}\n",
      "{'duration': 640, 'amp': (0.3164134858326646-0.010918616694945305j), 'sigma': 160, 'beta': -4.673823483923585}\n",
      "Compiling seed 0\n",
      "Simulating seed 0\n",
      "After seed 0, alpha: 0.998882, EPC: 0.000559\n",
      "Compiling seed 1\n",
      "Simulating seed 1\n",
      "After seed 1, alpha: 0.998868, EPC: 0.000566\n",
      "Compiling seed 2\n",
      "Simulating seed 2\n",
      "After seed 2, alpha: 0.999069, EPC: 0.000466\n",
      "Compiling seed 3\n",
      "Simulating seed 3\n",
      "After seed 3, alpha: 0.999225, EPC: 0.000388\n",
      "Compiling seed 4\n",
      "Simulating seed 4\n",
      "After seed 4, alpha: 0.999311, EPC: 0.000345\n",
      "Compiling seed 5\n",
      "Simulating seed 5\n",
      "After seed 5, alpha: 0.999332, EPC: 0.000334\n",
      "Compiling seed 6\n",
      "Simulating seed 6\n",
      "After seed 6, alpha: 0.999338, EPC: 0.000331\n",
      "Compiling seed 7\n",
      "Simulating seed 7\n",
      "After seed 7, alpha: 0.999352, EPC: 0.000324\n",
      "Compiling seed 8\n",
      "Simulating seed 8\n",
      "After seed 8, alpha: 0.999250, EPC: 0.000375\n",
      "Compiling seed 9\n",
      "Simulating seed 9\n"
     ]
    }
   ],
   "source": [
    "c_list = [1, 3, 5]\n",
    "shots = 2048\n",
    "transpiled_circs_list = []\n",
    "ydata = []\n",
    "Fitter_list = []\n",
    "for ci in c_list:\n",
    "    print('Cj = ', ci)\n",
    "\n",
    "    # Apply the stretch factor into backend (modify inst_map of the backend)\n",
    "    temp_inst_map = mod_inst_map(origin_inst_map, ci, [0])\n",
    "    armonk_real.defaults().instruction_schedule_map = temp_inst_map\n",
    "\n",
    "    transpiled_circs_list = []\n",
    "    ydata_temp = []\n",
    "    rb_fit = rb.RBFitter(None, xdata, rb_opts['rb_pattern'])\n",
    "\n",
    "    for rb_seed, rb_circ_seed in enumerate(rb_circs):\n",
    "        print('Compiling seed %d'%rb_seed)\n",
    "\n",
    "        # transpile circuit into the basis gate set of the backend\n",
    "        transpiled_rb_circ_seed = qiskit.transpile(rb_circ_seed,\n",
    "                                                   armonk_real,\n",
    "                                                   initial_layout=[0])\n",
    "        # store the transpiled circuits if need\n",
    "        for i in range(nseeds):\n",
    "            transpiled_circs_list.append(transpiled_rb_circ_seed[i])\n",
    "\n",
    "        print('Simulating seed %d'%rb_seed)\n",
    "\n",
    "        # translate circuits into pulse through the inst_map in the backend\n",
    "        # (we have already modify the inst_map of the backend)\n",
    "        # rb_sceldule = qiskit.schedule(transpiled_rb_circ_seed,\n",
    "        #                               armonk_real,\n",
    "        #                               meas_map=armonk_real.configuration().meas_map,\n",
    "        #                               inst_map=armonk_real.defaults().instruction_schedule_map)\n",
    "        #\n",
    "        # # combine the pulse schedules as an assemble\n",
    "        # rb_qobj = assemble(rb_sceldule,\n",
    "        #                    backend=armonk_real,\n",
    "        #                    meas_level=2,\n",
    "        #                    meas_return='avg',\n",
    "        #                    shots=shots)\n",
    "\n",
    "        # implement the assemble on backend\n",
    "        # real_job = armonk_real.run(rb_qobj)\n",
    "        real_job = qiskit.execute(transpiled_rb_circ_seed, armonk_real, shots=shots)\n",
    "\n",
    "        # get the result of job\n",
    "        rb_result = real_job.result()\n",
    "\n",
    "        # apply measurement error mitigation to the result\n",
    "        # rb_mem_result = meas_filter.apply(rb_result)\n",
    "\n",
    "        # Add mitigated data to the RB fitter\n",
    "        rb_fit.add_data(rb_result)\n",
    "\n",
    "        print('After seed %d, alpha: %f, EPC: %f'%(rb_seed,rb_fit.fit[0]['params'][1], rb_fit.fit[0]['epc']))\n",
    "        ydata_temp.append(rb_fit.ydata[0]['mean'])\n",
    "\n",
    "    # plot data for each stretch factor c\n",
    "    plt.figure(figsize=(8, 6), facecolor='w')\n",
    "    ax = plt.subplot(1, 1, 1)\n",
    "    # Plot the essence by calling plot_rb_data\n",
    "    rb_fit.plot_rb_data(0, ax=ax, add_label=True, show_plt=False)\n",
    "    # Add title and label\n",
    "    ax.set_title('%d Qubit RB (Cj = %.2f)'%(nQ, ci), fontsize=18)\n",
    "    plt.show()\n",
    "\n",
    "    # add data to the list\n",
    "    ydata.append(ydata_temp)\n",
    "    Fitter_list.append(rb_fit)\n",
    "\n",
    "print('Finished running RB')"
   ],
   "metadata": {
    "collapsed": false,
    "pycharm": {
     "name": "#%%\n",
     "is_executing": true
    }
   }
  },
  {
   "cell_type": "code",
   "execution_count": 26,
   "outputs": [
    {
     "name": "stdout",
     "output_type": "stream",
     "text": [
      "c =  [1, 5, 10]\n",
      "gamma =  [1.3888888888888888, -0.5, 0.1111111111111111]\n",
      "check constraints\n",
      "j from 0 to n =  2\n",
      "Summation of gamma_j =  1.0\n",
      "Summation of gamma_j * c_j**(from 1 to n) =  0.0\n"
     ]
    }
   ],
   "source": [
    "# Calculate the gamma constant for Richardson Extrapolation\n",
    "print('c = ', c_list)\n",
    "\n",
    "def gamma_j(c_list_):\n",
    "    gamma_list = []\n",
    "    for j in range(len(c_list_)):\n",
    "        gamma_temp = 1\n",
    "        for m_a in range(j):\n",
    "            gamma_temp *= c_list_[m_a]/(c_list_[j]-c_list_[m_a])\n",
    "        for m_b in range(len(c_list_)-j-1):\n",
    "            gamma_temp *= c_list_[m_b+j+1]/(c_list_[j]-c_list_[m_b+j+1])\n",
    "        gamma_list.append(gamma_temp)\n",
    "    # if len(c_list_)%2==0:\n",
    "        # gamma_list *= (-1)\n",
    "    return gamma_list\n",
    "gamma_list = gamma_j(c_list)\n",
    "print('gamma = ', gamma_list)\n",
    "\n",
    "# Check the constant didn't obey the constraint\n",
    "# (Summation of gamma_j = 1)\n",
    "# (Summation of gamma_j * c_j**k (k from 1 to n) = 0)\n",
    "print('check constraints')\n",
    "print('j from 0 to n = ', len(c_list)-1)\n",
    "print('Summation of gamma_j = ',sum(gamma_list))\n",
    "rc = 0\n",
    "for k in range(len(c_list)-1):\n",
    "    for i in range(len(gamma_list)):\n",
    "        rc += c_list[i]**(k+1)*gamma_list[i]\n",
    "print('Summation of gamma_j * c_j**(from 1 to n) = ', rc)"
   ],
   "metadata": {
    "collapsed": false,
    "pycharm": {
     "name": "#%%\n"
    }
   }
  },
  {
   "cell_type": "code",
   "execution_count": 27,
   "outputs": [],
   "source": [
    "# calculate extrapolation result\n",
    "ext_data = np.zeros(len(ydata[0][-1]))\n",
    "for i in range(len(ext_data)):\n",
    "    ext_temp = 0\n",
    "    for j in range(len(c_list)):\n",
    "        ext_temp += gamma_list[j]*ydata[j][-1][i]\n",
    "    ext_data[i] = ext_temp\n",
    "# print(ext_data)"
   ],
   "metadata": {
    "collapsed": false,
    "pycharm": {
     "name": "#%%\n"
    }
   }
  },
  {
   "cell_type": "code",
   "execution_count": 28,
   "outputs": [
    {
     "data": {
      "text/plain": "<Figure size 576x432 with 1 Axes>",
      "image/png": "[encoded data removed]"
     },
     "metadata": {},
     "output_type": "display_data"
    }
   ],
   "source": [
    "plt.figure(figsize=(8, 6), facecolor='w')\n",
    "plt.title('%d Qubit RB'%(nQ), fontsize=22)\n",
    "plt.xlabel('Clifford Length', fontsize=20)\n",
    "plt.ylabel('Ground State Population', fontsize=20)\n",
    "plt.xticks(fontsize='14')\n",
    "plt.yticks(fontsize='14')\n",
    "plt.grid()\n",
    "for i in range(len(c_list)):\n",
    "    plt.plot(xdata[0], ydata[i][-1], label='C = %.2f'%c_list[i])\n",
    "\n",
    "plt.plot(xdata[0], ext_data, 'r', label = 'Richardson result')\n",
    "plt.legend()\n",
    "# plt.savefig('Richardson_RB_result.jpg', dpi=150)\n",
    "\n",
    "plt.show()"
   ],
   "metadata": {
    "collapsed": false,
    "pycharm": {
     "name": "#%%\n"
    }
   }
  },
  {
   "cell_type": "code",
   "execution_count": 24,
   "outputs": [
    {
     "ename": "TypeError",
     "evalue": "_rb_fit_fun() missing 4 required positional arguments: 'x', 'a', 'alpha', and 'b'",
     "output_type": "error",
     "traceback": [
      "\u001B[0;31m---------------------------------------------------------------------------\u001B[0m",
      "\u001B[0;31mTypeError\u001B[0m                                 Traceback (most recent call last)",
      "\u001B[0;32m<ipython-input-24-5b112ce55024>\u001B[0m in \u001B[0;36m<module>\u001B[0;34m\u001B[0m\n\u001B[0;32m----> 1\u001B[0;31m \u001B[0mrb_fit\u001B[0m\u001B[0;34m.\u001B[0m\u001B[0mrb_fit_fun\u001B[0m\u001B[0;34m(\u001B[0m\u001B[0;34m)\u001B[0m\u001B[0;34m\u001B[0m\u001B[0;34m\u001B[0m\u001B[0m\n\u001B[0m",
      "\u001B[0;31mTypeError\u001B[0m: _rb_fit_fun() missing 4 required positional arguments: 'x', 'a', 'alpha', and 'b'"
     ]
    }
   ],
   "source": [
    "rb_fit.rb_fit_fun()"
   ],
   "metadata": {
    "collapsed": false,
    "pycharm": {
     "name": "#%%\n"
    }
   }
  }
 ],
 "metadata": {
  "kernelspec": {
   "display_name": "Python 3",
   "language": "python",
   "name": "python3"
  },
  "language_info": {
   "codemirror_mode": {
    "name": "ipython",
    "version": 2
   },
   "file_extension": ".py",
   "mimetype": "text/x-python",
   "name": "python",
   "nbconvert_exporter": "python",
   "pygments_lexer": "ipython2",
   "version": "2.7.6"
  }
 },
 "nbformat": 4,
 "nbformat_minor": 0
}