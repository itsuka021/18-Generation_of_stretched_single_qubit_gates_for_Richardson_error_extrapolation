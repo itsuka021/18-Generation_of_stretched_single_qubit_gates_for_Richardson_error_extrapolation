{
 "cells": [
  {
   "cell_type": "markdown",
   "metadata": {
    "collapsed": true,
    "pycharm": {
     "name": "#%% md\n"
    }
   },
   "source": [
    "## Calculate $\\gamma_j$\n"
   ]
  },
  {
   "cell_type": "code",
   "execution_count": 2,
   "outputs": [
    {
     "name": "stdout",
     "output_type": "stream",
     "text": [
      "c =  [1, 2, 3, 4, 5]\n",
      "[5.0, -10.0, 10.0, -5.0, 1.0]\n",
      "check constraints\n",
      "j from 0 to n =  4\n",
      "Summation of gamma_j =  1.0\n",
      "Summation of gamma_j * c_j**(from 1 to n) =  0.0\n"
     ]
    }
   ],
   "source": [
    "c_list = [1, 2, 3, 4, 5]\n",
    "print('c = ', c_list)\n",
    "gamma_list = []\n",
    "\n",
    "for j in range(len(c_list)):\n",
    "    gamma_temp = 1\n",
    "    for m_a in range(j):\n",
    "        gamma_temp *= c_list[m_a]/(c_list[j]-c_list[m_a])\n",
    "    for m_b in range(len(c_list)-j-1):\n",
    "        gamma_temp *= c_list[m_b+j+1]/(c_list[j]-c_list[m_b+j+1])\n",
    "    gamma_list.append(gamma_temp)\n",
    "print(gamma_list)\n",
    "\n",
    "print('check constraints')\n",
    "print('j from 0 to n = ', len(c_list)-1)\n",
    "print('Summation of gamma_j = ',sum(gamma_list))\n",
    "rc = 0\n",
    "for k in range(len(c_list)-1):\n",
    "    for i in range(len(gamma_list)):\n",
    "        rc += c_list[i]**(k+1)*gamma_list[i]\n",
    "print('Summation of gamma_j * c_j**(from 1 to n) = ', rc)"
   ],
   "metadata": {
    "collapsed": false,
    "pycharm": {
     "name": "#%%\n"
    }
   }
  },
  {
   "cell_type": "code",
   "execution_count": null,
   "outputs": [],
   "source": [],
   "metadata": {
    "collapsed": false,
    "pycharm": {
     "name": "#%%\n"
    }
   }
  }
 ],
 "metadata": {
  "kernelspec": {
   "display_name": "Python 3",
   "language": "python",
   "name": "python3"
  },
  "language_info": {
   "codemirror_mode": {
    "name": "ipython",
    "version": 2
   },
   "file_extension": ".py",
   "mimetype": "text/x-python",
   "name": "python",
   "nbconvert_exporter": "python",
   "pygments_lexer": "ipython2",
   "version": "2.7.6"
  }
 },
 "nbformat": 4,
 "nbformat_minor": 0
}