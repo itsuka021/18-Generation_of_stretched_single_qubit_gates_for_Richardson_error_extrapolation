{
 "cells": [
  {
   "cell_type": "code",
   "execution_count": 1,
   "metadata": {},
   "outputs": [],
   "source": [
    "import numpy as np\n",
    "import matplotlib.pyplot as plt\n",
    "\n",
    "from math import sqrt, pi\n",
    "from scipy.stats import norm"
   ]
  },
  {
   "cell_type": "code",
   "execution_count": 4,
   "metadata": {},
   "outputs": [],
   "source": [
    "def Integration(Fun, xval):\n",
    "        # ----------------------------- #\n",
    "        #       integration of f(x)     #\n",
    "        # ----------------------------- #\n",
    "        dxij =  xval[1:] - xval[:-1]\n",
    "\n",
    "        Fave = (Fun[1:] + Fun[:-1]) / 2.0\n",
    "        Area = np.dot( Fave, dxij )\n",
    "\n",
    "        return Area\n",
    "    \n",
    "def Generate_Gauss(Amp, mu, sig, xval):\n",
    "        #Fgauss1 = norm(mu,sig)                       #  Amplitude = 1.0\n",
    "        #Fgauss2 = Amp* norm.pdf(xval, mu, sig)\n",
    "\n",
    "        Exponent = (xval/sig)**2\n",
    "        #Fgauss3  = Amp /(sig*sqrt(2*pi))* np.exp(-0.5*Exponent)\n",
    "        Fgauss4  = Amp * np.exp(-0.5*Exponent)\n",
    "\n",
    "        Toplot = 0\n",
    "        if Toplot == 1:\n",
    "                plt.plot(xval, Amp*Fgauss1.pdf(xval), xval, Fgauss2, xval, Fgauss3, xval, Fgauss4)\n",
    "                plt.legend(['F1','F2','F3','F4'])\n",
    "                plt.show()\n",
    "        elif Toplot == 2:\n",
    "                plt.plot(xval, Fgauss3)\n",
    "                plt.legend(['Gaussian'])\n",
    "                plt.show()\n",
    "\n",
    "        return Fgauss4          # exp( ... ) * Amp      (not normalized)\n",
    "        #return Fgauss3         # normalized Gaussian * Amp    \n",
    "                            \n",
    "def Expand_Fun(mu, sig, duration, Amp):\n",
    "\n",
    "        duration = 100\n",
    "\n",
    "        mu1, sig1, A1 = 0, 3, 2.0\n",
    "\n",
    "        x1, x2, nx = -8*sig, 8*sig, duration\n",
    "\n",
    "        dx   =  (x2- x1)/ nx\n",
    "        xval = np.arange(x1, x2, dx)\n",
    "\n",
    "        Fgauss = Generate_Gauss(Amp, mu, sig, xval)\n",
    "\n",
    "        return xval, Fgauss\n",
    "    \n",
    "def New_pulse_Amp(sig1, A1, duration1, sig2, A2, duration2):\n",
    "        mu1, mu2 = 0, 0\n",
    "\n",
    "        xR1, gauss1 = Expand_Fun(mu1, sig1, duration1, A1)\n",
    "        xR2, gauss2 = Expand_Fun(mu2, sig2, duration2, A2)\n",
    "\n",
    "        Area1  = Integration(gauss1, xR1)\n",
    "        Area2  = Integration(gauss2, xR2)\n",
    "        print(Area1, Area2)\n",
    "\n",
    "        Ratio = Area1/Area2\n",
    "        if abs(Ratio-1) < 1e-8:\n",
    "                print('\\n *** good:  same integration area  ***')\n",
    "        else:\n",
    "                print('\\n *** changing the area amplitude to get the same integration area ***')\n",
    "                A2new = A2 * (Area1/Area2)\n",
    "                xR2, gauss2 = Expand_Fun(mu2, sig2, duration2, A2new)\n",
    "\n",
    "                Area2  = Integration(gauss2, xR2)\n",
    "                print(Area1, Area2)\n",
    "\n",
    "        return A2new\n",
    "\n",
    "        #plt.plot( xR1, gauss1, xR2, gauss2)\n",
    "        #plt.legend(['F1', 'F2'])\n",
    "        #plt.show()"
   ]
  },
  {
   "cell_type": "code",
   "execution_count": 6,
   "metadata": {},
   "outputs": [
    {
     "name": "stdout",
     "output_type": "stream",
     "text": [
      "7.519884823892976 15.039769647785953\n",
      "\n",
      " *** changing the area amplitude to get the same integration area ***\n",
      "7.519884823892976 7.519884823892976\n",
      " A2 new amplitude =  1.0\n"
     ]
    }
   ],
   "source": [
    "mu1, sig1, A1, duration1 = 0, 1.5, 2.0, 100\n",
    "mu2, sig2, A2, duration2 = 0, 3.0, 2.0, 200\n",
    "\n",
    "A2new = New_pulse_Amp(sig1, A1, duration1, sig2, A2, duration2)\n",
    "\n",
    "print(' A2 new amplitude = ', A2new)"
   ]
  },
  {
   "cell_type": "code",
   "execution_count": null,
   "metadata": {},
   "outputs": [],
   "source": []
  }
 ],
 "metadata": {
  "kernelspec": {
   "display_name": "Python 3",
   "language": "python",
   "name": "python3"
  },
  "language_info": {
   "codemirror_mode": {
    "name": "ipython",
    "version": 3
   },
   "file_extension": ".py",
   "mimetype": "text/x-python",
   "name": "python",
   "nbconvert_exporter": "python",
   "pygments_lexer": "ipython3",
   "version": "3.8.1"
  }
 },
 "nbformat": 4,
 "nbformat_minor": 4
}
