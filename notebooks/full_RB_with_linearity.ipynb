{
 "cells": [
  {
   "cell_type": "code",
   "execution_count": null,
   "metadata": {
    "collapsed": true
   },
   "outputs": [],
   "source": [
    "import numpy as np\n",
    "import matplotlib.pyplot as plt\n",
    "from copy import deepcopy\n",
    "\n",
    "import qiskit\n",
    "from qiskit import IBMQ, pulse, QuantumCircuit, execute, transpile, Aer, assemble\n",
    "from qiskit.pulse import library, Schedule, Play, ShiftPhase, DriveChannel\n",
    "from qiskit.pulse.macros import measure\n",
    "from qiskit.pulse.schedule import ParameterizedSchedule\n",
    "from qiskit.ignis.characterization import update_u_gates, get_single_q_pulse\n",
    "from qiskit.providers.aer.noise import NoiseModel\n",
    "from qiskit.providers.aer.noise.errors.standard_errors import depolarizing_error, thermal_relaxation_error\n",
    "\n",
    "import qiskit.ignis.verification.randomized_benchmarking as rb"
   ]
  },
  {
   "cell_type": "code",
   "execution_count": null,
   "outputs": [],
   "source": [
    "# First create a fake backend for testing the code\n",
    "\n",
    "#Import PulseSimulator and PulseSystemModel for pulse simulation, as well as the mock Armonk backend:\n",
    "# The pulse simulator\n",
    "from qiskit.providers.aer import PulseSimulator\n",
    "\n",
    "# Object for representing physical models\n",
    "from qiskit.providers.aer.pulse import PulseSystemModel\n",
    "\n",
    "# backend for simulation\n",
    "backend_sim = PulseSimulator()\n",
    "backend_a = Aer.get_backend('qasm_simulator')\n",
    "# Mock Armonk backend\n",
    "from qiskit.test.mock.backends.armonk.fake_armonk import FakeArmonk\n",
    "armonk_backend = FakeArmonk()\n",
    "\n",
    "#Manual insertion of Hamiltonian parameters:\n",
    "#Caution: Hamiltonian parameters are required for FAKE BACKEND\n",
    "# set the drive strength\n",
    "getattr(armonk_backend.configuration(), 'hamiltonian')['vars']['omegad0'] = 63455017.85\n",
    "\n",
    "# set the qubit frequency\n",
    "# Caution: the frequency of the qubit of the real backend, look up the frequency in the spec in IBMQ\n",
    "freq_est = 4.97e9\n",
    "armonk_backend.defaults().qubit_freq_est = [freq_est]\n",
    "getattr(armonk_backend.configuration(), 'hamiltonian')['vars']['wq0'] = 2*np.pi*freq_est\n",
    "\n",
    "#Generate model from backend:\n",
    "armonk_model = PulseSystemModel.from_backend(armonk_backend)"
   ],
   "metadata": {
    "collapsed": false,
    "pycharm": {
     "name": "#%%\n"
    }
   }
  },
  {
   "cell_type": "code",
   "execution_count": null,
   "outputs": [],
   "source": [
    "# All the basic gates in the backend\n",
    "armonk_backend.defaults().instruction_schedule_map.instructions"
   ],
   "metadata": {
    "collapsed": false,
    "pycharm": {
     "name": "#%%\n"
    }
   }
  },
  {
   "cell_type": "code",
   "execution_count": null,
   "outputs": [],
   "source": [
    "# 3.Run Rabi experiments and fit 𝜋-pulse amplitude\n",
    "#Next, we run a Rabi experiments generated using Ignis on the simulator using the system model generated from the Armonk backend.\n",
    "\n",
    "#First, construct Rabi experiment schedules:\n",
    "# qubit list\n",
    "qubit = 0\n",
    "\n",
    "#Number of shots\n",
    "num_shots = 2048\n",
    "\n",
    "# drive shape parameters\n",
    "# Important warning!\n",
    "# You must check that how long the duration of the device be used can support.\n",
    "# ex. the last few terms in np.arrange(64, 4160, 64) is not support by ibmq_bogota\n",
    "\n",
    "drive_duration = np.arange(64, 4160, 64) # np.arange(96, 1024, 32) for ibmq_bogota\n",
    "drive_sigma = np.arange(8, 520, 8) # np.arange(12, 128, 4) for ibmq_bogota\n",
    "# print(drive_sigma)\n",
    "# print(drive_duration)\n",
    "\n",
    "# drive amplitudes to be used\n",
    "num_exps = 13\n",
    "drive_amps = np.linspace(0.3, 1.0, num_exps)\n",
    "# print(drive_amps)\n",
    "\n",
    "# list of drive channels\n",
    "drive_channels = [DriveChannel(0)]"
   ],
   "metadata": {
    "collapsed": false,
    "pycharm": {
     "name": "#%%\n"
    }
   }
  },
  {
   "cell_type": "code",
   "execution_count": null,
   "outputs": [],
   "source": [
    "rabi_schedules=[]\n",
    "for amp in drive_amps:\n",
    "    for i in range(len(drive_duration)):\n",
    "        sched = pulse.Schedule(name='Rabi amp={}, duration={}'.format(amp, drive_duration[i]))\n",
    "        sched += pulse.Play(library.Gaussian(int(drive_duration[i]),\n",
    "                                             amp,int(drive_sigma[i])).get_waveform(),\n",
    "                            pulse.DriveChannel(qubit))\n",
    "        sched += measure([qubit], armonk_backend) << sched.duration\n",
    "        rabi_schedules.append(sched)\n",
    "# rabi_schedules[0].draw(plot_range=[0,512])\n",
    "\n",
    "# Assemble the qobj for job submission.\n",
    "# When assembling pulse schedules to be used with the pulse simulator, pass the PulseSimulator as the backend.\n",
    "\n",
    "rabi_qobj = assemble(rabi_schedules,\n",
    "                 backend=backend_sim,\n",
    "                 meas_level=1,\n",
    "                 meas_return='avg',\n",
    "                 shots=num_shots)"
   ],
   "metadata": {
    "collapsed": false,
    "pycharm": {
     "name": "#%%\n"
    }
   }
  },
  {
   "cell_type": "code",
   "execution_count": null,
   "outputs": [],
   "source": [
    "# Run the simulation on fake_armonk:\n",
    "sim_result = backend_sim.run(rabi_qobj, armonk_model).result()"
   ],
   "metadata": {
    "collapsed": false,
    "pycharm": {
     "name": "#%%\n"
    }
   }
  },
  {
   "cell_type": "code",
   "execution_count": null,
   "outputs": [],
   "source": [
    "cnt_sched = 0\n",
    "response  = np.zeros([len(drive_amps), len(drive_duration)])\n",
    "for i in range(len(drive_amps)):\n",
    "    resp_Amp = np.zeros(len(drive_duration), dtype=complex)\n",
    "    for j in range(len(drive_duration)):\n",
    "        resp_Amp[j] = sim_result.get_memory(cnt_sched)[qubit]\n",
    "        cnt_sched = cnt_sched + 1\n",
    "    resp_Amp = resp_Amp-np.mean(resp_Amp)\n",
    "    response[i] = np.real(resp_Amp)\n",
    "\n",
    "# print(len(response))\n",
    "# print(len(response))\n",
    "plt.figure(figsize=(8, 6), facecolor='w')\n",
    "plt.title('Rabi Oscillation', fontsize='22')\n",
    "plt.plot(drive_duration, response[0],'-*')\n",
    "plt.xlabel('Pulse Duration (dt of the backend)', fontsize='20')\n",
    "plt.ylabel('Population (without scaling)', fontsize='20')\n",
    "plt.xticks(fontsize='14')\n",
    "plt.yticks(fontsize='14')\n",
    "plt.show()"
   ],
   "metadata": {
    "collapsed": false,
    "pycharm": {
     "name": "#%%\n"
    }
   }
  },
  {
   "cell_type": "code",
   "execution_count": null,
   "outputs": [],
   "source": [
    "# Fitting the rabi oscillation date\n",
    "from scipy.optimize import curve_fit\n",
    "def cos_fit_func(x, A,B, w, phi):\n",
    "    return B + A * np.cos(2*np.pi*x*w + phi)\n",
    "\n",
    "def fit_Freq(x, y, xMax):\n",
    "    \"\"\"  [default]   xMax = 2.5\n",
    "\n",
    "    \"\"\"\n",
    "    y2 = 1/np.abs(np.max(y)) * np.real(y)\n",
    "    x2 = np.linspace(0, xMax, len(x))\n",
    "    #plt.plot(x2, y2,'-*')\n",
    "\n",
    "    fitparams, conv = curve_fit(cos_fit_func, x2, y2, [ 1,  0,  1, 0])\n",
    "    a0, b0, w0, phi0 = fitparams\n",
    "    print(' ***************** ')\n",
    "    print(a0, b0, w0, phi0)\n",
    "\n",
    "    # plt.figure(figsize=(8, 6), facecolor='w')\n",
    "    plt.title('Rabi Oscillation with fitting curve', fontsize='22')\n",
    "    plt.plot(x2,cos_fit_func(x2, *fitparams),'.-',x2, y2,'-*')\n",
    "    plt.xlabel('Pulse Duration (with scaling)', fontsize='20')\n",
    "    plt.ylabel('Population (with scaling)', fontsize='20')\n",
    "    plt.xticks(fontsize='14')\n",
    "    plt.yticks(fontsize='14')\n",
    "    # plt.show()\n",
    "\n",
    "    # --------- rescaling back to the original unit  ------- #\n",
    "    dT1 = x[1]   - x[0]\n",
    "    dx2 = x2[1] - x2[0]\n",
    "    Freq = w0 * (dx2/dT1)\n",
    "    print(dx2, dT1, dx2/dT1, w0, Freq)\n",
    "\n",
    "    return a0, b0, w0, phi0, Freq"
   ],
   "metadata": {
    "collapsed": false,
    "pycharm": {
     "name": "#%%\n"
    }
   }
  },
  {
   "cell_type": "markdown",
   "source": [
    "# Get the 1st fine tune guess & fitting"
   ],
   "metadata": {
    "collapsed": false,
    "pycharm": {
     "name": "#%% md\n"
    }
   }
  },
  {
   "cell_type": "code",
   "execution_count": null,
   "outputs": [],
   "source": [
    "xMax = 1.5\n",
    "response0 =  response[0] - np.mean( response[0] )\n",
    "plt.figure(figsize=(8, 6), facecolor='w')\n",
    "a0, b0, w0, phi0, Freq = fit_Freq(drive_duration, response0, xMax)\n",
    "\n",
    "fparm_List = [np.array([a0, b0, w0, phi0])]\n",
    "Amp_List   = [drive_amps[0]]\n",
    "w0_List     = [w0]\n",
    "Freq_List   = [Freq]\n",
    "xMax_List  = [xMax]"
   ],
   "metadata": {
    "collapsed": false,
    "pycharm": {
     "name": "#%%\n"
    }
   }
  },
  {
   "cell_type": "markdown",
   "source": [
    "#  More schedules:  changing both Amplitude & durations"
   ],
   "metadata": {
    "collapsed": false,
    "pycharm": {
     "name": "#%% md\n"
    }
   }
  },
  {
   "cell_type": "code",
   "execution_count": null,
   "outputs": [],
   "source": [
    "# plot all rabi oscillation for first half\n",
    "Look_AR = np.arange(1, 6)\n",
    "plt.figure(figsize=(8, 6), facecolor='w')\n",
    "plt.title('Rabi Oscillation for different driving amplitude', fontsize='22')\n",
    "for cnt in Look_AR:\n",
    "    resp_Amp = response[cnt]\n",
    "    resp_Amp = resp_Amp - np.mean(resp_Amp)\n",
    "    amp         = drive_amps[cnt]\n",
    "    xMax_scal = xMax_List[-1] * (amp/Amp_List[-1])     #  estimated scaled  xMax\n",
    "    print('amp={}, xMax_scale={}'.format(amp, xMax_scal))\n",
    "    #print(resp_Amp)\n",
    "\n",
    "    plt.plot(drive_duration,np.real(resp_Amp),'-*')\n",
    "    plt.xlabel('Pulse Duration (without scaling)', fontsize='20')\n",
    "    plt.ylabel('Population (without scaling)', fontsize='20')\n",
    "    plt.xticks(fontsize='14')\n",
    "    plt.yticks(fontsize='14')\n",
    "\n",
    "plt.legend(drive_amps[Look_AR])\n",
    "plt.show()"
   ],
   "metadata": {
    "collapsed": false,
    "pycharm": {
     "name": "#%%\n"
    }
   }
  },
  {
   "cell_type": "code",
   "execution_count": null,
   "outputs": [],
   "source": [
    "# plot all rabi oscillation for last half\n",
    "Look_AR = np.arange(6, len(drive_amps))\n",
    "plt.figure(figsize=(8, 6), facecolor='w')\n",
    "plt.title('Rabi Oscillation for different driving amplitude', fontsize='22')\n",
    "for cnt in Look_AR:\n",
    "    resp_Amp = response[cnt]\n",
    "    resp_Amp = resp_Amp - np.mean(resp_Amp)\n",
    "    amp         = drive_amps[cnt]\n",
    "    xMax_scal = xMax_List[-1] * (amp/Amp_List[-1])     #  estimated scaled  xMax\n",
    "    print('amp={}, xMax_scale={}'.format(amp, xMax_scal))\n",
    "    #print(resp_Amp)\n",
    "\n",
    "    plt.plot(drive_duration,np.real(resp_Amp),'-*')\n",
    "    plt.xlabel('Pulse Duration (without scaling)', fontsize='20')\n",
    "    plt.ylabel('Population (without scaling)', fontsize='20')\n",
    "    plt.xticks(fontsize='14')\n",
    "    plt.yticks(fontsize='14')\n",
    "\n",
    "plt.legend(drive_amps[Look_AR])\n",
    "plt.show()"
   ],
   "metadata": {
    "collapsed": false,
    "pycharm": {
     "name": "#%%\n"
    }
   }
  },
  {
   "cell_type": "code",
   "execution_count": null,
   "outputs": [],
   "source": [
    "# fitting data for each rabi oscillation\n",
    "\n",
    "for cnt in np.arange(1, len(drive_amps)):\n",
    "    plt.figure(figsize=(8, 6), facecolor='w')\n",
    "    resp_Amp = response[cnt]\n",
    "    resp_Amp = resp_Amp - np.mean(resp_Amp)\n",
    "    amp         = drive_amps[cnt]\n",
    "    xMax_scal = xMax_List[-1] * (amp/Amp_List[-1])     #  estimated scaled  xMax\n",
    "    str = 'amp={}, xMax_scale={:.2f}'.format(amp, xMax_scal)\n",
    "    print(str)\n",
    "\n",
    "    a0, b0, w0, phi0, Freq = fit_Freq(drive_duration, resp_Amp, xMax_scal)\n",
    "    plt.legend([str], loc = 'upper right')\n",
    "    plt.show()\n",
    "\n",
    "\n",
    "    Amp_List.append(amp)\n",
    "    w0_List.append(w0)\n",
    "    Freq_List.append(Freq)\n",
    "    xMax_List.append(xMax_scal)\n",
    "    fparm_List.append(np.array([a0, b0, w0, phi0]))"
   ],
   "metadata": {
    "collapsed": false,
    "pycharm": {
     "name": "#%%\n"
    }
   }
  },
  {
   "cell_type": "code",
   "execution_count": null,
   "outputs": [],
   "source": [
    "fit_coef   = np.polyfit(Amp_List, Freq_List, 1)\n",
    "Rabi_linear  = np.poly1d(fit_coef)\n",
    "plt.figure(figsize=(8, 6), facecolor='w')\n",
    "plt.title('Check Linearity', fontsize='22')\n",
    "plt.plot(Amp_List, Freq_List,'yo', Amp_List, Rabi_linear(Amp_List), '--k')\n",
    "plt.xlabel(' pulse amplitude', fontsize='20')\n",
    "plt.ylabel(' fitting Rabbi frequency', fontsize='20')\n",
    "plt.xticks(fontsize='14')\n",
    "plt.yticks(fontsize='14')\n",
    "# plt.savefig('linearity.jpg', dpi=150)\n",
    "plt.show()"
   ],
   "metadata": {
    "collapsed": false,
    "pycharm": {
     "name": "#%%\n"
    }
   }
  },
  {
   "cell_type": "markdown",
   "source": [
    "Randomized Benchmarking"
   ],
   "metadata": {
    "collapsed": false,
    "pycharm": {
     "name": "#%% md\n"
    }
   }
  },
  {
   "cell_type": "markdown",
   "source": [
    "Create function to modify the inst_map"
   ],
   "metadata": {
    "collapsed": false
   }
  },
  {
   "cell_type": "code",
   "execution_count": null,
   "outputs": [],
   "source": [
    "# function for modify the parameters\n",
    "def tune_param(params, c1):\n",
    "    \"\"\"  (eg) C1 = 2 = ratio to extend duration & sigma\n",
    "     X pulse ==>\n",
    "        inst.pulse = Drag(duration=640, amp=(0.6472753752719002+0j), sigma=160, beta=-4.631873857015726)\n",
    "        inst.pulse.parameters  = {'duration': 640, 'amp': (0.6472753752719002+0j), 'sigma': 160, 'beta': -4.631873857015726}\n",
    "    \"\"\"\n",
    "    params['sigma'] = params['sigma'] * c1\n",
    "    params['amp']   = params['amp'] / c1\n",
    "    params['duration'] = params['duration'] * c1\n",
    "    #print(params)\n",
    "    return params"
   ],
   "metadata": {
    "collapsed": false,
    "pycharm": {
     "name": "#%%\n"
    }
   }
  },
  {
   "cell_type": "code",
   "execution_count": null,
   "outputs": [],
   "source": [
    "def update_x_gates(drag_params, pi2_pulse_schedules=None,\n",
    "                   qubits=None, inst_map=None, drives=None):\n",
    "    \"\"\"Update the cmd_def with new single qubit gate values\n",
    "    Will update x\n",
    "    Args:\n",
    "        drag_params (list): list of drag params\n",
    "        pi2_pulse_schedules (list): list of new pi/2 gate as a pulse schedule\n",
    "                             will use the drag_params if this is None.\n",
    "        qubits (list): list of qubits to update\n",
    "        inst_map (InstructionScheduleMap): InstructionScheduleMap providing\n",
    "            circuit instruction to schedule definitions.\n",
    "        drives (list): List of drive chs\n",
    "    \"\"\"\n",
    "    for qubit in qubits:\n",
    "\n",
    "        drive_ch = drives[qubit]\n",
    "\n",
    "        if pi2_pulse_schedules is None:\n",
    "            x90_pulse = library.drag(**drag_params[qubit])\n",
    "            x90_sched = Schedule()\n",
    "            x90_sched += Play(x90_pulse, drive_ch).shift(0)\n",
    "        else:\n",
    "            x90_sched = pi2_pulse_schedules[qubit]\n",
    "\n",
    "        pulse_dur = x90_sched.duration\n",
    "\n",
    "        # find channel dependency for x\n",
    "\n",
    "        _x_group = (drive_ch, )\n",
    "\n",
    "        # add commands to schedule\n",
    "        # x\n",
    "        sched_components = [x90_sched]\n",
    "        schedule1 = ParameterizedSchedule(*sched_components,\n",
    "                                          parameters=None, name='x_%d' % qubit)\n",
    "\n",
    "\n",
    "\n",
    "        inst_map.add('x', qubits=qubit, schedule=schedule1)"
   ],
   "metadata": {
    "collapsed": false,
    "pycharm": {
     "name": "#%%\n"
    }
   }
  },
  {
   "cell_type": "code",
   "execution_count": null,
   "outputs": [],
   "source": [
    "def mod_inst_map(inst_map_, c, qubit_):\n",
    "    inst_map_copy = deepcopy(inst_map_)\n",
    "    x_sched_ = inst_map_copy.get('x', qubit_)\n",
    "    u2_sched_ = inst_map_copy.get('u2', qubit_, P0=1, P1=1)\n",
    "    u3_sched_ = inst_map_copy.get('u3', qubit_, P0=1, P1=1, P2=1)\n",
    "    print('origin parameters')\n",
    "    # print(x_sched_)\n",
    "    # print(u2_sched_)\n",
    "    # print(u3_sched_)\n",
    "    inst_u3_ = u3_sched_.instructions[1][1]\n",
    "    # print(inst_u3_)\n",
    "    x_params_ = x_sched_.instructions[0][1].pulse.parameters\n",
    "    origin_params_ = inst_u3_.pulse.parameters\n",
    "    print(x_params_)\n",
    "    print(origin_params_)\n",
    "    # modify the parameters\n",
    "    mod_x_params_ = tune_param(x_params_, c)\n",
    "    mod_params_ = tune_param(origin_params_, c)\n",
    "    print('modify parameters')\n",
    "    print(mod_x_params_)\n",
    "    print(mod_params_)\n",
    "    dri_channel = []\n",
    "    for q_i in qubit_:\n",
    "        dri_channel.append(pulse.DriveChannel(q_i))\n",
    "    update_x_gates([mod_x_params_], None, qubit_, inst_map_copy, dri_channel)\n",
    "    update_u_gates([mod_params_], None, qubit_, inst_map_copy, dri_channel)\n",
    "    get_single_q_pulse(inst_map_copy, [0])\n",
    "\n",
    "    return inst_map_copy"
   ],
   "metadata": {
    "collapsed": false,
    "pycharm": {
     "name": "#%%\n"
    }
   }
  },
  {
   "cell_type": "code",
   "execution_count": null,
   "outputs": [],
   "source": [
    "IBMQ.load_account()\n",
    "armonk_real = IBMQ.providers()[0].backends.ibmq_armonk\n",
    "# ddepcopy the int map of backend\n",
    "origin_inst_map = deepcopy(armonk_real.defaults().instruction_schedule_map)"
   ],
   "metadata": {
    "collapsed": false,
    "pycharm": {
     "name": "#%%\n"
    }
   }
  },
  {
   "cell_type": "code",
   "execution_count": null,
   "outputs": [],
   "source": [
    "# get the mapping\n",
    "origin_inst_map.get('u2', qubits=[0], P0=1, P1=1)\n"
   ],
   "metadata": {
    "collapsed": false,
    "pycharm": {
     "name": "#%%\n"
    }
   }
  },
  {
   "cell_type": "code",
   "execution_count": null,
   "outputs": [],
   "source": [
    "# modify backend\n",
    "new_inst_map = mod_inst_map(origin_inst_map, 3, [0])\n",
    "armonk_real.defaults().instruction_schedule_map = new_inst_map"
   ],
   "metadata": {
    "collapsed": false,
    "pycharm": {
     "name": "#%%\n"
    }
   }
  },
  {
   "cell_type": "code",
   "execution_count": null,
   "outputs": [],
   "source": [
    "# create a device backend noise model\n",
    "noise_model = NoiseModel.from_backend(armonk_real)\n",
    "print(noise_model)"
   ],
   "metadata": {
    "collapsed": false,
    "pycharm": {
     "name": "#%%\n"
    }
   }
  },
  {
   "cell_type": "code",
   "execution_count": 44,
   "outputs": [
    {
     "name": "stdout",
     "output_type": "stream",
     "text": [
      "Cj =  1\n",
      "origin parameters\n",
      "{'duration': 640, 'amp': (0.6532305423977114+0j), 'sigma': 160, 'beta': -4.690327199788522}\n",
      "{'duration': 640, 'amp': (0.31725661690378526-0.010966677039533052j), 'sigma': 160, 'beta': -4.433564218976074}\n",
      "modify parameters\n",
      "{'duration': 640, 'amp': (0.6532305423977114+0j), 'sigma': 160, 'beta': -4.690327199788522}\n",
      "{'duration': 640, 'amp': (0.31725661690378526-0.010966677039533052j), 'sigma': 160, 'beta': -4.433564218976074}\n",
      "Compiling seed 0\n",
      "Simulating seed 0\n"
     ]
    },
    {
     "name": "stderr",
     "output_type": "stream",
     "text": [
      "/home/pyserver/miniconda3/lib/python3.8/site-packages/qiskit/compiler/assemble.py:320: RuntimeWarning: Dynamic rep rates not supported on this backend. rep_time will be used instead of rep_delay.\n",
      "  warnings.warn(\n",
      "/home/pyserver/miniconda3/lib/python3.8/site-packages/scipy/integrate/_ode.py:1011: UserWarning: qiskit_zvode: Excess work done on this call. (Perhaps wrong MF.)\n",
      "  warnings.warn('{:s}: {:s}'.format(self.__class__.__name__,\n",
      "/home/pyserver/miniconda3/lib/python3.8/site-packages/scipy/integrate/_ode.py:1011: UserWarning: qiskit_zvode: Excess work done on this call. (Perhaps wrong MF.)\n",
      "  warnings.warn('{:s}: {:s}'.format(self.__class__.__name__,\n",
      "/home/pyserver/miniconda3/lib/python3.8/site-packages/scipy/integrate/_ode.py:1011: UserWarning: qiskit_zvode: Excess work done on this call. (Perhaps wrong MF.)\n",
      "  warnings.warn('{:s}: {:s}'.format(self.__class__.__name__,\n",
      "/home/pyserver/miniconda3/lib/python3.8/site-packages/scipy/integrate/_ode.py:1011: UserWarning: qiskit_zvode: Excess work done on this call. (Perhaps wrong MF.)\n",
      "  warnings.warn('{:s}: {:s}'.format(self.__class__.__name__,\n",
      "Process ForkProcess-89:\n",
      "Traceback (most recent call last):\n",
      "  File \"/home/pyserver/miniconda3/lib/python3.8/multiprocessing/process.py\", line 315, in _bootstrap\n",
      "    self.run()\n",
      "  File \"/home/pyserver/miniconda3/lib/python3.8/multiprocessing/process.py\", line 108, in run\n",
      "    self._target(*self._args, **self._kwargs)\n",
      "  File \"/home/pyserver/miniconda3/lib/python3.8/concurrent/futures/process.py\", line 233, in _process_worker\n",
      "    call_item = call_queue.get(block=True)\n",
      "  File \"/home/pyserver/miniconda3/lib/python3.8/multiprocessing/queues.py\", line 97, in get\n",
      "    res = self._recv_bytes()\n",
      "  File \"/home/pyserver/miniconda3/lib/python3.8/multiprocessing/connection.py\", line 216, in recv_bytes\n",
      "    buf = self._recv_bytes(maxlength)\n",
      "  File \"/home/pyserver/miniconda3/lib/python3.8/multiprocessing/connection.py\", line 414, in _recv_bytes\n",
      "    buf = self._recv(4)\n",
      "  File \"/home/pyserver/miniconda3/lib/python3.8/multiprocessing/connection.py\", line 379, in _recv\n",
      "    chunk = read(handle, remaining)\n",
      "KeyboardInterrupt\n"
     ]
    },
    {
     "ename": "KeyboardInterrupt",
     "evalue": "",
     "output_type": "error",
     "traceback": [
      "\u001B[0;31m---------------------------------------------------------------------------\u001B[0m",
      "\u001B[0;31mKeyboardInterrupt\u001B[0m                         Traceback (most recent call last)",
      "\u001B[0;32m<ipython-input-44-bf20bd6be675>\u001B[0m in \u001B[0;36m<module>\u001B[0;34m\u001B[0m\n\u001B[1;32m     54\u001B[0m                            \u001B[0mmeas_return\u001B[0m\u001B[0;34m=\u001B[0m\u001B[0;34m'avg'\u001B[0m\u001B[0;34m,\u001B[0m\u001B[0;34m\u001B[0m\u001B[0;34m\u001B[0m\u001B[0m\n\u001B[1;32m     55\u001B[0m                            shots=shots)\n\u001B[0;32m---> 56\u001B[0;31m         sim_result = backend_sim.run(rb_qobj,\n\u001B[0m\u001B[1;32m     57\u001B[0m                                      \u001B[0marmonk_model\u001B[0m\u001B[0;34m,\u001B[0m\u001B[0;34m\u001B[0m\u001B[0;34m\u001B[0m\u001B[0m\n\u001B[1;32m     58\u001B[0m                                      \u001B[0mbackend_options\u001B[0m\u001B[0;34m=\u001B[0m\u001B[0;34m{\u001B[0m\u001B[0;34m'max_parallel_experiments'\u001B[0m\u001B[0;34m:\u001B[0m \u001B[0;36m0\u001B[0m\u001B[0;34m}\u001B[0m\u001B[0;34m\u001B[0m\u001B[0;34m\u001B[0m\u001B[0m\n",
      "\u001B[0;32m~/miniconda3/lib/python3.8/site-packages/qiskit/providers/aer/aerjob.py\u001B[0m in \u001B[0;36m_wrapper\u001B[0;34m(self, *args, **kwargs)\u001B[0m\n\u001B[1;32m     39\u001B[0m         \u001B[0;32mif\u001B[0m \u001B[0mself\u001B[0m\u001B[0;34m.\u001B[0m\u001B[0m_future\u001B[0m \u001B[0;32mis\u001B[0m \u001B[0;32mNone\u001B[0m\u001B[0;34m:\u001B[0m\u001B[0;34m\u001B[0m\u001B[0;34m\u001B[0m\u001B[0m\n\u001B[1;32m     40\u001B[0m             \u001B[0;32mraise\u001B[0m \u001B[0mJobError\u001B[0m\u001B[0;34m(\u001B[0m\u001B[0;34m\"Job not submitted yet!. You have to .submit() first!\"\u001B[0m\u001B[0;34m)\u001B[0m\u001B[0;34m\u001B[0m\u001B[0;34m\u001B[0m\u001B[0m\n\u001B[0;32m---> 41\u001B[0;31m         \u001B[0;32mreturn\u001B[0m \u001B[0mfunc\u001B[0m\u001B[0;34m(\u001B[0m\u001B[0mself\u001B[0m\u001B[0;34m,\u001B[0m \u001B[0;34m*\u001B[0m\u001B[0margs\u001B[0m\u001B[0;34m,\u001B[0m \u001B[0;34m**\u001B[0m\u001B[0mkwargs\u001B[0m\u001B[0;34m)\u001B[0m\u001B[0;34m\u001B[0m\u001B[0;34m\u001B[0m\u001B[0m\n\u001B[0m\u001B[1;32m     42\u001B[0m     \u001B[0;32mreturn\u001B[0m \u001B[0m_wrapper\u001B[0m\u001B[0;34m\u001B[0m\u001B[0;34m\u001B[0m\u001B[0m\n\u001B[1;32m     43\u001B[0m \u001B[0;34m\u001B[0m\u001B[0m\n",
      "\u001B[0;32m~/miniconda3/lib/python3.8/site-packages/qiskit/providers/aer/aerjob.py\u001B[0m in \u001B[0;36mresult\u001B[0;34m(self, timeout)\u001B[0m\n\u001B[1;32m     92\u001B[0m             \u001B[0mconcurrent\u001B[0m\u001B[0;34m.\u001B[0m\u001B[0mfutures\u001B[0m\u001B[0;34m.\u001B[0m\u001B[0mCancelledError\u001B[0m\u001B[0;34m:\u001B[0m \u001B[0;32mif\u001B[0m \u001B[0mjob\u001B[0m \u001B[0mcancelled\u001B[0m \u001B[0mbefore\u001B[0m \u001B[0mcompleted\u001B[0m\u001B[0;34m.\u001B[0m\u001B[0;34m\u001B[0m\u001B[0;34m\u001B[0m\u001B[0m\n\u001B[1;32m     93\u001B[0m         \"\"\"\n\u001B[0;32m---> 94\u001B[0;31m         \u001B[0;32mreturn\u001B[0m \u001B[0mself\u001B[0m\u001B[0;34m.\u001B[0m\u001B[0m_future\u001B[0m\u001B[0;34m.\u001B[0m\u001B[0mresult\u001B[0m\u001B[0;34m(\u001B[0m\u001B[0mtimeout\u001B[0m\u001B[0;34m=\u001B[0m\u001B[0mtimeout\u001B[0m\u001B[0;34m)\u001B[0m\u001B[0;34m\u001B[0m\u001B[0;34m\u001B[0m\u001B[0m\n\u001B[0m\u001B[1;32m     95\u001B[0m \u001B[0;34m\u001B[0m\u001B[0m\n\u001B[1;32m     96\u001B[0m     \u001B[0;34m@\u001B[0m\u001B[0mrequires_submit\u001B[0m\u001B[0;34m\u001B[0m\u001B[0;34m\u001B[0m\u001B[0m\n",
      "\u001B[0;32m~/miniconda3/lib/python3.8/concurrent/futures/_base.py\u001B[0m in \u001B[0;36mresult\u001B[0;34m(self, timeout)\u001B[0m\n\u001B[1;32m    432\u001B[0m                 \u001B[0;32mreturn\u001B[0m \u001B[0mself\u001B[0m\u001B[0;34m.\u001B[0m\u001B[0m__get_result\u001B[0m\u001B[0;34m(\u001B[0m\u001B[0;34m)\u001B[0m\u001B[0;34m\u001B[0m\u001B[0;34m\u001B[0m\u001B[0m\n\u001B[1;32m    433\u001B[0m \u001B[0;34m\u001B[0m\u001B[0m\n\u001B[0;32m--> 434\u001B[0;31m             \u001B[0mself\u001B[0m\u001B[0;34m.\u001B[0m\u001B[0m_condition\u001B[0m\u001B[0;34m.\u001B[0m\u001B[0mwait\u001B[0m\u001B[0;34m(\u001B[0m\u001B[0mtimeout\u001B[0m\u001B[0;34m)\u001B[0m\u001B[0;34m\u001B[0m\u001B[0;34m\u001B[0m\u001B[0m\n\u001B[0m\u001B[1;32m    435\u001B[0m \u001B[0;34m\u001B[0m\u001B[0m\n\u001B[1;32m    436\u001B[0m             \u001B[0;32mif\u001B[0m \u001B[0mself\u001B[0m\u001B[0;34m.\u001B[0m\u001B[0m_state\u001B[0m \u001B[0;32min\u001B[0m \u001B[0;34m[\u001B[0m\u001B[0mCANCELLED\u001B[0m\u001B[0;34m,\u001B[0m \u001B[0mCANCELLED_AND_NOTIFIED\u001B[0m\u001B[0;34m]\u001B[0m\u001B[0;34m:\u001B[0m\u001B[0;34m\u001B[0m\u001B[0;34m\u001B[0m\u001B[0m\n",
      "\u001B[0;32m~/miniconda3/lib/python3.8/threading.py\u001B[0m in \u001B[0;36mwait\u001B[0;34m(self, timeout)\u001B[0m\n\u001B[1;32m    300\u001B[0m         \u001B[0;32mtry\u001B[0m\u001B[0;34m:\u001B[0m    \u001B[0;31m# restore state no matter what (e.g., KeyboardInterrupt)\u001B[0m\u001B[0;34m\u001B[0m\u001B[0;34m\u001B[0m\u001B[0m\n\u001B[1;32m    301\u001B[0m             \u001B[0;32mif\u001B[0m \u001B[0mtimeout\u001B[0m \u001B[0;32mis\u001B[0m \u001B[0;32mNone\u001B[0m\u001B[0;34m:\u001B[0m\u001B[0;34m\u001B[0m\u001B[0;34m\u001B[0m\u001B[0m\n\u001B[0;32m--> 302\u001B[0;31m                 \u001B[0mwaiter\u001B[0m\u001B[0;34m.\u001B[0m\u001B[0macquire\u001B[0m\u001B[0;34m(\u001B[0m\u001B[0;34m)\u001B[0m\u001B[0;34m\u001B[0m\u001B[0;34m\u001B[0m\u001B[0m\n\u001B[0m\u001B[1;32m    303\u001B[0m                 \u001B[0mgotit\u001B[0m \u001B[0;34m=\u001B[0m \u001B[0;32mTrue\u001B[0m\u001B[0;34m\u001B[0m\u001B[0;34m\u001B[0m\u001B[0m\n\u001B[1;32m    304\u001B[0m             \u001B[0;32melse\u001B[0m\u001B[0;34m:\u001B[0m\u001B[0;34m\u001B[0m\u001B[0;34m\u001B[0m\u001B[0m\n",
      "\u001B[0;31mKeyboardInterrupt\u001B[0m: "
     ]
    }
   ],
   "source": [
    "#Number of qubits\n",
    "nQ = 1\n",
    "\n",
    "#Number of seeds (random sequences)\n",
    "nseeds = 10\n",
    "\n",
    "#Number of Cliffords in the sequence (start, stop, steps)\n",
    "nCliffs = np.arange(1,200,10)\n",
    "\n",
    "#2Q RB on Q0,Q2 and 1Q RB on Q1\n",
    "rb_pattern = [[0]]\n",
    "\n",
    "#Do three times as any 1Q Cliffords\n",
    "length_multiplier = 1\n",
    "\n",
    "rb_opts = {'length_vector': nCliffs,\n",
    "           'nseeds': nseeds,\n",
    "           'rb_pattern': rb_pattern,\n",
    "           'length_multiplier': length_multiplier,\n",
    "           'group_gates': 'Clifford'}\n",
    "\n",
    "rb_circs, xdata = rb.randomized_benchmarking_seq(**rb_opts)\n",
    "\n",
    "c_list = [1, 2, 3]\n",
    "shots = 4096\n",
    "transpiled_circs_list = []\n",
    "ydata = []\n",
    "for ci in c_list:\n",
    "    print('Cj = ', ci)\n",
    "    temp_inst_map = mod_inst_map(origin_inst_map, ci, [0])\n",
    "    armonk_real.defaults().instruction_schedule_map = temp_inst_map\n",
    "\n",
    "    # backend_sim.defaults().instruction_schedule_map = temp_inst_map\n",
    "\n",
    "    transpiled_circs_list = []\n",
    "    ydata_temp = []\n",
    "    rb_fit = rb.RBFitter(None, xdata, rb_opts['rb_pattern'])\n",
    "    for rb_seed, rb_circ_seed in enumerate(rb_circs):\n",
    "        print('Compiling seed %d'%rb_seed)\n",
    "        new_rb_circ_seed = transpile(rb_circ_seed,\n",
    "                                     armonk_real,\n",
    "                                     initial_layout=[0])\n",
    "        for i in range(nseeds):\n",
    "            transpiled_circs_list.append(new_rb_circ_seed[i])\n",
    "        print('Simulating seed %d'%rb_seed)\n",
    "        rb_sceldule = qiskit.schedule(new_rb_circ_seed,\n",
    "                                      backend_sim,\n",
    "                                      meas_map=armonk_real.configuration().meas_map,\n",
    "                                      inst_map=armonk_real.defaults().instruction_schedule_map)\n",
    "        rb_qobj = assemble(rb_sceldule,\n",
    "                           backend=backend_sim,\n",
    "                           meas_level=1,\n",
    "                           rep_time=1,\n",
    "                           meas_return='avg',\n",
    "                           shots=shots)\n",
    "        sim_result = backend_sim.run(rb_qobj,\n",
    "                                     armonk_model,\n",
    "                                     backend_options={'max_parallel_experiments': 0}\n",
    "                                     ).result()\n",
    "        # job = execute(rb_sceldule, backend_sim, system_model=armonk_model, shots=shots)\n",
    "        # Add data to the fitter\n",
    "        rb_fit.add_data(sim_result)\n",
    "        print('After seed %d, alpha: %f, EPC: %f'%(rb_seed,rb_fit.fit[0]['params'][1], rb_fit.fit[0]['epc']))\n",
    "        ydata_temp.append(rb_fit.ydata[0]['mean'])\n",
    "    ydata.append(ydata_temp)"
   ],
   "metadata": {
    "collapsed": false,
    "pycharm": {
     "name": "#%%\n"
    }
   }
  },
  {
   "cell_type": "code",
   "execution_count": null,
   "outputs": [],
   "source": [
    "job = execute(rb_sceldule, backend_sim, system_model=armonk_model, shots=shots)\n",
    "result = job.result()"
   ],
   "metadata": {
    "collapsed": false,
    "pycharm": {
     "name": "#%%\n"
    }
   }
  },
  {
   "cell_type": "code",
   "execution_count": null,
   "outputs": [],
   "source": [
    "backend_sim.defaults().instruction_schedule_map.instructions"
   ],
   "metadata": {
    "collapsed": false,
    "pycharm": {
     "name": "#%%\n"
    }
   }
  },
  {
   "cell_type": "code",
   "execution_count": null,
   "outputs": [],
   "source": [
    "print('c = ', c_list)\n",
    "\n",
    "def gamma_j(c_list_):\n",
    "    gamma_list = []\n",
    "    for j in range(len(c_list_)):\n",
    "        gamma_temp = 1\n",
    "        for m_a in range(j):\n",
    "            gamma_temp *= c_list_[m_a]/(c_list_[j]-c_list_[m_a])\n",
    "        for m_b in range(len(c_list_)-j-1):\n",
    "            gamma_temp *= c_list_[m_b+j+1]/(c_list_[j]-c_list_[m_b+j+1])\n",
    "        gamma_list.append(gamma_temp)\n",
    "    # if len(c_list_)%2==0:\n",
    "        # gamma_list *= (-1)\n",
    "    return gamma_list\n",
    "gamma_list = gamma_j(c_list)\n",
    "print(gamma_list)\n",
    "\n",
    "print('check constraints')\n",
    "print('j from 0 to n = ', len(c_list)-1)\n",
    "print('Summation of gamma_j = ',sum(gamma_list))\n",
    "rc = 0\n",
    "for k in range(len(c_list)-1):\n",
    "    for i in range(len(gamma_list)):\n",
    "        rc += c_list[i]**(k+1)*gamma_list[i]\n",
    "print('Summation of gamma_j * c_j**(from 1 to n) = ', rc)"
   ],
   "metadata": {
    "collapsed": false,
    "pycharm": {
     "name": "#%%\n"
    }
   }
  },
  {
   "cell_type": "code",
   "execution_count": null,
   "outputs": [],
   "source": [
    "plt.figure(figsize=(8, 6), facecolor='w')\n",
    "plt.title('%d Qubit RB'%(nQ), fontsize=22)\n",
    "plt.xlabel('Clifford Length', fontsize=20)\n",
    "plt.ylabel('Ground State Population', fontsize=20)\n",
    "plt.xticks(fontsize='14')\n",
    "plt.yticks(fontsize='14')\n",
    "plt.grid()\n",
    "for i in range(len(c_list)):\n",
    "    plt.plot(xdata[0], ydata[i][2])\n",
    "plt.plot(xdata[0], 1.5*ydata[0][2]-0.5*ydata[1][2], 'r')\n",
    "# plt.plot(xdata[0], 3*ydata[0][1]-3*ydata[1][1]+ydata[2][1])\n",
    "plt.savefig('Richardson_RB_result_2.jpg', dpi=150)\n",
    "plt.show()\n",
    "\n"
   ],
   "metadata": {
    "collapsed": false,
    "pycharm": {
     "name": "#%%\n"
    }
   }
  }
 ],
 "metadata": {
  "kernelspec": {
   "display_name": "Python 3",
   "language": "python",
   "name": "python3"
  },
  "language_info": {
   "codemirror_mode": {
    "name": "ipython",
    "version": 2
   },
   "file_extension": ".py",
   "mimetype": "text/x-python",
   "name": "python",
   "nbconvert_exporter": "python",
   "pygments_lexer": "ipython2",
   "version": "2.7.6"
  }
 },
 "nbformat": 4,
 "nbformat_minor": 0
}