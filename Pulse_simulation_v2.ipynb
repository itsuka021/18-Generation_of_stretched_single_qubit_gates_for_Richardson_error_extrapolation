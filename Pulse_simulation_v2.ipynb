{
 "cells": [
  {
   "cell_type": "code",
   "execution_count": 1,
   "metadata": {},
   "outputs": [],
   "source": [
    "#Qiskit Aer: Pulse simulation of a backend model\n",
    "#This notebook shows how to use the Aer pulse simulator using a model generated from a backend. \n",
    "#In particular, we run a Rabi experiment to find a 𝜋-pulse amplitude on a model of the Armonk one qubit backend, generated from the FakeArmonk mock backend."
   ]
  },
  {
   "cell_type": "code",
   "execution_count": 2,
   "metadata": {},
   "outputs": [],
   "source": [
    "#Contents\n",
    "#1.Imports\n",
    "#2.Construct model from backend\n",
    "#3.Run Rabi experiments and fit :math:pi`-pulse amplitude <#rabi>`__"
   ]
  },
  {
   "cell_type": "code",
   "execution_count": 41,
   "metadata": {},
   "outputs": [],
   "source": [
    "#1.Imports\n",
    "import numpy as np\n",
    "#Import Rabi experiment generator and fitter from Ignis, and other functions for job submission:\n",
    "from qiskit.ignis.characterization.calibrations import rabi_schedules, RabiFitter\n",
    "\n",
    "from qiskit.pulse import DriveChannel\n",
    "from qiskit.compiler import assemble\n",
    "from qiskit.qobj.utils import MeasLevel, MeasReturnType"
   ]
  },
  {
   "cell_type": "code",
   "execution_count": 42,
   "metadata": {},
   "outputs": [],
   "source": [
    "#Import PulseSimulator and PulseSystemModel for pulse simulation, as well as the mock Armonk backend:\n",
    "# The pulse simulator\n",
    "from qiskit.providers.aer import PulseSimulator\n",
    "\n",
    "# Object for representing physical models\n",
    "from qiskit.providers.aer.pulse import PulseSystemModel\n",
    "\n",
    "# Mock Armonk backend\n",
    "from qiskit.test.mock.backends.armonk.fake_armonk import FakeArmonk"
   ]
  },
  {
   "cell_type": "code",
   "execution_count": 43,
   "metadata": {},
   "outputs": [],
   "source": [
    "#2. Construct model from backend\n",
    "#This section demonstrates the use of the PulseSystemModel.from_backend function for generating PulseSystemModel objects from a backend.\n",
    "#Instantiate mock backend:\n",
    "armonk_backend = FakeArmonk()"
   ]
  },
  {
   "cell_type": "code",
   "execution_count": 44,
   "metadata": {},
   "outputs": [],
   "source": [
    "#Manual insertion of Hamiltonian parameters:\n",
    "#Caution: Hamiltonian parameters are required for FAKE BACKEND\n",
    "# set the drive strength\n",
    "getattr(armonk_backend.configuration(), 'hamiltonian')['vars']['omegad0'] = 63455017.85\n",
    "\n",
    "# set the qubit frequency\n",
    "# Caution: the frequency of the qubit of the real backend, look up the frequency in the spec in IBMQ\n",
    "freq_est = 4.97e9\n",
    "armonk_backend.defaults().qubit_freq_est = [freq_est]\n",
    "getattr(armonk_backend.configuration(), 'hamiltonian')['vars']['wq0'] = 2*np.pi*freq_est"
   ]
  },
  {
   "cell_type": "code",
   "execution_count": 45,
   "metadata": {},
   "outputs": [],
   "source": [
    "#Generate model from backend:\n",
    "armonk_model = PulseSystemModel.from_backend(armonk_backend)"
   ]
  },
  {
   "cell_type": "code",
   "execution_count": 46,
   "metadata": {},
   "outputs": [],
   "source": [
    "#3.Run Rabi experiments and fit 𝜋-pulse amplitude\n",
    "#Next, we run a Rabi experiments generated using Ignis on the simulator using the system model generated from the Armonk backend."
   ]
  },
  {
   "cell_type": "code",
   "execution_count": 47,
   "metadata": {},
   "outputs": [
    {
     "name": "stdout",
     "output_type": "stream",
     "text": [
      "[  256.   512.   768.  1024.  1280.  1536.  1792.  2048.  2304.  2560.\n",
      "  2816.  3072.  3328.  3584.  3840.  4096.  4352.  4608.  4864.  5120.\n",
      "  5376.  5632.  5888.  6144.  6400.  6656.  6912.  7168.  7424.  7680.\n",
      "  7936.  8192.  8448.  8704.  8960.  9216.  9472.  9728.  9984. 10240.\n",
      " 10496. 10752. 11008. 11264. 11520. 11776. 12032. 12288. 12544. 12800.\n",
      " 13056. 13312. 13568. 13824. 14080. 14336. 14592. 14848. 15104. 15360.\n",
      " 15616. 15872. 16128. 16384.]\n"
     ]
    }
   ],
   "source": [
    "#First, construct Rabi experiment schedules:\n",
    "# qubit list\n",
    "qubit = 0\n",
    "\n",
    "#Number of shots\n",
    "num_shots = 2048\n",
    "\n",
    "# drive shape parameters\n",
    "total_duration = 4096*4\n",
    "total_sigma = total_duration/8\n",
    "num_dur = 65\n",
    "drive_duration = np.linspace(0, total_duration, num_dur)\n",
    "drive_duration = np.delete(drive_duration, 0)\n",
    "drive_sigma = np.linspace(0,total_sigma, num_dur)\n",
    "drive_sigma = np.delete(drive_sigma,0)\n",
    "print(drive_duration)\n",
    "# drive amplitudes to use\n",
    "num_exps = 100\n",
    "drive_amps = np.linspace(0, 1.0, num_exps)\n",
    "#drive_amps = 0.01\n",
    "\n",
    "\n",
    "# list of drive channels\n",
    "drive_channels = [DriveChannel(0)]"
   ]
  },
  {
   "cell_type": "code",
   "execution_count": 48,
   "metadata": {},
   "outputs": [],
   "source": [
    "from qiskit import pulse \n",
    "from qiskit.pulse import library\n",
    "from qiskit.scheduler import measure "
   ]
  },
  {
   "cell_type": "code",
   "execution_count": 71,
   "metadata": {},
   "outputs": [
    {
     "ename": "TypeError",
     "evalue": "__init__() got an unexpected keyword argument 'name'",
     "output_type": "error",
     "traceback": [
      "\u001b[0;31m---------------------------------------------------------------------------\u001b[0m",
      "\u001b[0;31mTypeError\u001b[0m                                 Traceback (most recent call last)",
      "\u001b[0;32m<ipython-input-71-243bccc9344f>\u001b[0m in \u001b[0;36m<module>\u001b[0;34m\u001b[0m\n\u001b[1;32m      6\u001b[0m     \u001b[0msched\u001b[0m \u001b[0;34m=\u001b[0m \u001b[0mpulse\u001b[0m\u001b[0;34m.\u001b[0m\u001b[0mSchedule\u001b[0m\u001b[0;34m(\u001b[0m\u001b[0mname\u001b[0m\u001b[0;34m=\u001b[0m\u001b[0;34m'Rabi exp duration={}'\u001b[0m\u001b[0;34m.\u001b[0m\u001b[0mformat\u001b[0m\u001b[0;34m(\u001b[0m\u001b[0mdrive_duration\u001b[0m\u001b[0;34m[\u001b[0m\u001b[0mi\u001b[0m\u001b[0;34m]\u001b[0m\u001b[0;34m)\u001b[0m\u001b[0;34m)\u001b[0m\u001b[0;34m\u001b[0m\u001b[0;34m\u001b[0m\u001b[0m\n\u001b[1;32m      7\u001b[0m     sched += pulse.Play(library.Gaussian(int(drive_duration[i]),amp,int(drive_sigma[i]),name='Rabi exp duration={}'.format(drive_duration[i])).get_waveform(),\n\u001b[0;32m----> 8\u001b[0;31m                         pulse.DriveChannel(qubit,name='Rabi exp duration={}'.format(drive_duration[i])))\n\u001b[0m\u001b[1;32m      9\u001b[0m     \u001b[0msched\u001b[0m \u001b[0;34m+=\u001b[0m \u001b[0mmeasure\u001b[0m\u001b[0;34m(\u001b[0m\u001b[0;34m[\u001b[0m\u001b[0mqubit\u001b[0m\u001b[0;34m]\u001b[0m\u001b[0;34m,\u001b[0m \u001b[0marmonk_backend\u001b[0m\u001b[0;34m)\u001b[0m \u001b[0;34m<<\u001b[0m \u001b[0msched\u001b[0m\u001b[0;34m.\u001b[0m\u001b[0mduration\u001b[0m\u001b[0;34m\u001b[0m\u001b[0;34m\u001b[0m\u001b[0m\n\u001b[1;32m     10\u001b[0m     \u001b[0mrabi_schedules\u001b[0m\u001b[0;34m.\u001b[0m\u001b[0mappend\u001b[0m\u001b[0;34m(\u001b[0m\u001b[0msched\u001b[0m\u001b[0;34m)\u001b[0m\u001b[0;34m\u001b[0m\u001b[0;34m\u001b[0m\u001b[0m\n",
      "\u001b[0;31mTypeError\u001b[0m: __init__() got an unexpected keyword argument 'name'"
     ]
    }
   ],
   "source": [
    "backend_sim = PulseSimulator()\n",
    "#for amp in drive_amps:\n",
    "amp = 0.5\n",
    "rabi_schedules=[]\n",
    "for i in range(len(drive_duration)):\n",
    "    sched = pulse.Schedule(name='Rabi exp duration={}'.format(drive_duration[i]))\n",
    "    sched += pulse.Play(library.Gaussian(int(drive_duration[i]),amp,int(drive_sigma[i])).get_waveform(),pulse.DriveChannel(qubit))\n",
    "    sched += measure([qubit], armonk_backend) << sched.duration\n",
    "    rabi_schedules.append(sched)\n",
    "    \n",
    "    #Assemble the qobj for job submission. \n",
    "    #When assembling pulse schedules to be used with the pulse simulator, pass the PulseSimulator as the backend.\n",
    "rabi_schedules[1].draw(plot_range=[0,512])\n",
    "\n",
    "    "
   ]
  },
  {
   "cell_type": "code",
   "execution_count": 67,
   "metadata": {},
   "outputs": [
    {
     "name": "stderr",
     "output_type": "stream",
     "text": [
      "/opt/anaconda3/lib/python3.7/site-packages/qiskit/compiler/assemble.py:323: RuntimeWarning: Dynamic rep rates not supported on this backend. rep_time will be used instead of rep_delay.\n",
      "  RuntimeWarning,\n"
     ]
    }
   ],
   "source": [
    "rabi_qobj = assemble(rabi_schedules,\n",
    "                 backend=backend_sim,\n",
    "                 meas_level=1,\n",
    "                 meas_return='avg',\n",
    "                 shots=num_shots)\n",
    "#Run the simulation:\n",
    "sim_result = backend_sim.run(rabi_qobj, armonk_model).result()"
   ]
  },
  {
   "cell_type": "code",
   "execution_count": 68,
   "metadata": {},
   "outputs": [
    {
     "data": {
      "text/plain": [
       "64"
      ]
     },
     "execution_count": 68,
     "metadata": {},
     "output_type": "execute_result"
    }
   ],
   "source": [
    "response = []\n",
    "for i in range(len(drive_duration)):\n",
    "    response.append(sim_result.get_memory(i)[qubit])\n",
    "len(response)\n",
    "\n",
    "#response\n",
    "    "
   ]
  },
  {
   "cell_type": "code",
   "execution_count": 69,
   "metadata": {},
   "outputs": [
    {
     "data": {
      "text/plain": [
       "[<matplotlib.lines.Line2D at 0x1a1cb2a950>]"
      ]
     },
     "execution_count": 69,
     "metadata": {},
     "output_type": "execute_result"
    },
    {
     "data": {
      "image/png": "[encoded data removed]",
      "text/plain": [
       "<Figure size 432x288 with 1 Axes>"
      ]
     },
     "metadata": {
      "needs_background": "light"
     },
     "output_type": "display_data"
    }
   ],
   "source": [
    "response = response - np.mean(response)    \n",
    "\n",
    "import matplotlib.pyplot as plt \n",
    "plt.plot(drive_duration,np.real(response))"
   ]
  },
  {
   "cell_type": "code",
   "execution_count": 94,
   "metadata": {},
   "outputs": [
    {
     "data": {
      "text/plain": [
       "(array([  256.,   512.,   768.,  1024.,  1280.,  1536.,  1792.,  2048.,\n",
       "         2304.,  2560.,  2816.,  3072.,  3328.,  3584.,  3840.,  4096.,\n",
       "         4352.,  4608.,  4864.,  5120.,  5376.,  5632.,  5888.,  6144.,\n",
       "         6400.,  6656.,  6912.,  7168.,  7424.,  7680.,  7936.,  8192.,\n",
       "         8448.,  8704.,  8960.,  9216.,  9472.,  9728.,  9984., 10240.,\n",
       "        10496., 10752., 11008., 11264., 11520., 11776., 12032., 12288.,\n",
       "        12544., 12800., 13056., 13312., 13568., 13824., 14080., 14336.,\n",
       "        14592., 14848., 15104., 15360., 15616., 15872., 16128., 16384.]),\n",
       " array([-0.08995056,  0.06922913,  0.16542053,  0.11122131, -0.03623962,\n",
       "        -0.15098572, -0.14317322, -0.00547791,  0.12684631,  0.15711975,\n",
       "         0.03211975, -0.11534119, -0.16612244, -0.06309509,  0.09364319,\n",
       "         0.17811584,  0.08485413, -0.05088806, -0.16514587, -0.11827087,\n",
       "         0.01893616,  0.14198303,  0.14198303,  0.01844788, -0.12950134,\n",
       "        -0.16026306, -0.03038025,  0.1063385 ,  0.15711975,  0.07313538,\n",
       "        -0.07969666, -0.16758728, -0.10020447,  0.05067444,  0.13172913,\n",
       "         0.15467834, -0.01377869, -0.1436615 , -0.15342712, -0.02354431,\n",
       "         0.12733459,  0.14491272,  0.04627991, -0.10899353, -0.16758728,\n",
       "        -0.07432556,  0.082901  ,  0.16981506,  0.10438538, -0.04454041,\n",
       "        -0.15879822, -0.1436615 ,  0.00624084,  0.14735413,  0.15174866,\n",
       "         0.02479553, -0.12120056, -0.16368103, -0.05674744,  0.08192444,\n",
       "         0.17420959,  0.09901428, -0.06211853, -0.16612244]))"
      ]
     },
     "execution_count": 94,
     "metadata": {},
     "output_type": "execute_result"
    }
   ],
   "source": [
    "drive_duration,np.real(response)"
   ]
  },
  {
   "cell_type": "code",
   "execution_count": 74,
   "metadata": {},
   "outputs": [],
   "source": [
    "#drive_duration"
   ]
  },
  {
   "cell_type": "code",
   "execution_count": 75,
   "metadata": {},
   "outputs": [],
   "source": [
    "#Generate the Rabi oscillation plot and find the 𝜋-pulse amplitude:\n",
    "#rabi_fit = RabiFitter(sim_result, drive_duration, [qubit], fit_p0 = [1.5, 2, 0, 0])\n",
    "# plot\n",
    "# rabi_fit.plot(0)"
   ]
  },
  {
   "cell_type": "code",
   "execution_count": 73,
   "metadata": {},
   "outputs": [],
   "source": [
    "#rabi_schedules"
   ]
  },
  {
   "cell_type": "code",
   "execution_count": 90,
   "metadata": {},
   "outputs": [],
   "source": [
    "from scipy.optimize import curve_fit\n",
    "def cos_fit_func(x, A,B, w, phi):\n",
    "    return B + A * np.cos(2*np.pi*x*w + phi)"
   ]
  },
  {
   "cell_type": "code",
   "execution_count": 91,
   "metadata": {},
   "outputs": [
    {
     "name": "stderr",
     "output_type": "stream",
     "text": [
      "/opt/anaconda3/lib/python3.7/site-packages/numpy/core/_asarray.py:85: ComplexWarning: Casting complex values to real discards the imaginary part\n",
      "  return array(a, dtype, copy=False, order=order)\n"
     ]
    }
   ],
   "source": [
    "fitparams, conv = curve_fit(cos_fit_func, drive_duration, response, [0.15, 0.0, 1/2000, -(np.pi)*0.7])"
   ]
  },
  {
   "cell_type": "code",
   "execution_count": 92,
   "metadata": {},
   "outputs": [
    {
     "data": {
      "text/plain": [
       "array([-3.64281945e-02, -1.22984978e-03,  5.21270802e-04, -4.77821632e+00])"
      ]
     },
     "execution_count": 92,
     "metadata": {},
     "output_type": "execute_result"
    }
   ],
   "source": [
    "fitparams\n",
    "a0,b0,w0,phi = fitparams\n",
    "fitparams"
   ]
  },
  {
   "cell_type": "code",
   "execution_count": 93,
   "metadata": {},
   "outputs": [
    {
     "data": {
      "text/plain": [
       "[<matplotlib.lines.Line2D at 0x1a2408fe10>,\n",
       " <matplotlib.lines.Line2D at 0x1a2409d0d0>]"
      ]
     },
     "execution_count": 93,
     "metadata": {},
     "output_type": "execute_result"
    },
    {
     "data": {
      "image/png": "[encoded data removed]",
      "text/plain": [
       "<Figure size 432x288 with 1 Axes>"
      ]
     },
     "metadata": {
      "needs_background": "light"
     },
     "output_type": "display_data"
    }
   ],
   "source": [
    "plt.plot(drive_duration,cos_fit_func(drive_duration,a0,b0,w0,phi),drive_duration,np.real(response))"
   ]
  },
  {
   "cell_type": "code",
   "execution_count": null,
   "metadata": {},
   "outputs": [],
   "source": []
  }
 ],
 "metadata": {
  "kernelspec": {
   "display_name": "Python 3",
   "language": "python",
   "name": "python3"
  },
  "language_info": {
   "codemirror_mode": {
    "name": "ipython",
    "version": 3
   },
   "file_extension": ".py",
   "mimetype": "text/x-python",
   "name": "python",
   "nbconvert_exporter": "python",
   "pygments_lexer": "ipython3",
   "version": "3.7.6"
  }
 },
 "nbformat": 4,
 "nbformat_minor": 4
}
