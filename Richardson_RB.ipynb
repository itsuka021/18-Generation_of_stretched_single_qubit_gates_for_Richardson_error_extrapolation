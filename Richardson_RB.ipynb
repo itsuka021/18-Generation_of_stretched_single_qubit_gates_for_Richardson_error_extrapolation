{
 "cells": [
  {
   "cell_type": "code",
   "execution_count": 1,
   "metadata": {
    "collapsed": true
   },
   "outputs": [],
   "source": [
    "#Import general libraries (needed for functions)\n",
    "import numpy as np\n",
    "import matplotlib.pyplot as plt\n",
    "from copy import deepcopy\n",
    "\n",
    "#Import Qiskit classes\n",
    "import qiskit\n",
    "from qiskit import IBMQ, pulse, QuantumCircuit, execute, transpile, Aer, assemble\n",
    "from qiskit.pulse import library, Schedule, Play, ShiftPhase\n",
    "from qiskit.pulse.schedule import ParameterizedSchedule\n",
    "from qiskit.ignis.characterization import update_u_gates, get_single_q_pulse\n",
    "from qiskit.providers.aer.noise import NoiseModel\n",
    "from qiskit.providers.aer.noise.errors.standard_errors import depolarizing_error, thermal_relaxation_error\n",
    "\n",
    "#Import the RB Functions\n",
    "import qiskit.ignis.verification.randomized_benchmarking as rb"
   ]
  },
  {
   "cell_type": "markdown",
   "source": [
    "Create function to modify the inst_map"
   ],
   "metadata": {
    "collapsed": false
   }
  },
  {
   "cell_type": "code",
   "execution_count": 2,
   "outputs": [],
   "source": [
    "# function for modify the parameters\n",
    "def tune_param(params, c1):\n",
    "    \"\"\"  (eg) C1 = 2 = ratio to extend duration & sigma\n",
    "     X pulse ==>\n",
    "        inst.pulse = Drag(duration=640, amp=(0.6472753752719002+0j), sigma=160, beta=-4.631873857015726)\n",
    "        inst.pulse.parameters  = {'duration': 640, 'amp': (0.6472753752719002+0j), 'sigma': 160, 'beta': -4.631873857015726}\n",
    "    \"\"\"\n",
    "    params['sigma'] = params['sigma'] * c1\n",
    "    params['amp']   = params['amp'] / c1\n",
    "    params['duration'] = params['duration'] * c1\n",
    "    #print(params)\n",
    "    return params"
   ],
   "metadata": {
    "collapsed": false,
    "pycharm": {
     "name": "#%%\n"
    }
   }
  },
  {
   "cell_type": "code",
   "execution_count": 3,
   "outputs": [],
   "source": [
    "def update_x_gates(drag_params, pi2_pulse_schedules=None,\n",
    "                   qubits=None, inst_map=None, drives=None):\n",
    "    \"\"\"Update the cmd_def with new single qubit gate values\n",
    "    Will update x\n",
    "    Args:\n",
    "        drag_params (list): list of drag params\n",
    "        pi2_pulse_schedules (list): list of new pi/2 gate as a pulse schedule\n",
    "                             will use the drag_params if this is None.\n",
    "        qubits (list): list of qubits to update\n",
    "        inst_map (InstructionScheduleMap): InstructionScheduleMap providing\n",
    "            circuit instruction to schedule definitions.\n",
    "        drives (list): List of drive chs\n",
    "    \"\"\"\n",
    "    for qubit in qubits:\n",
    "\n",
    "        drive_ch = drives[qubit]\n",
    "\n",
    "        if pi2_pulse_schedules is None:\n",
    "            x90_pulse = library.drag(**drag_params[qubit])\n",
    "            x90_sched = Schedule()\n",
    "            x90_sched += Play(x90_pulse, drive_ch).shift(0)\n",
    "        else:\n",
    "            x90_sched = pi2_pulse_schedules[qubit]\n",
    "\n",
    "        pulse_dur = x90_sched.duration\n",
    "\n",
    "        # find channel dependency for x\n",
    "\n",
    "        _x_group = (drive_ch, )\n",
    "\n",
    "        # add commands to schedule\n",
    "        # x\n",
    "        sched_components = [x90_sched]\n",
    "        schedule1 = ParameterizedSchedule(*sched_components,\n",
    "                                          parameters=None, name='x_%d' % qubit)\n",
    "\n",
    "\n",
    "\n",
    "        inst_map.add('x', qubits=qubit, schedule=schedule1)"
   ],
   "metadata": {
    "collapsed": false,
    "pycharm": {
     "name": "#%%\n"
    }
   }
  },
  {
   "cell_type": "code",
   "execution_count": 4,
   "outputs": [],
   "source": [
    "def mod_inst_map(inst_map_, c, qubit_):\n",
    "    inst_map_copy = deepcopy(inst_map_)\n",
    "    x_sched_ = inst_map_copy.get('x', qubit_)\n",
    "    u2_sched_ = inst_map_copy.get('u2', qubit_, P0=1, P1=1)\n",
    "    u3_sched_ = inst_map_copy.get('u3', qubit_, P0=1, P1=1, P2=1)\n",
    "    print('origin parameters')\n",
    "    # print(x_sched_)\n",
    "    # print(u2_sched_)\n",
    "    # print(u3_sched_)\n",
    "    inst_u3_ = u3_sched_.instructions[2][1]\n",
    "    # print(inst_u3_)\n",
    "    x_params_ = x_sched_.instructions[0][1].pulse.parameters\n",
    "    origin_params_ = inst_u3_.pulse.parameters\n",
    "    print(x_params_)\n",
    "    print(origin_params_)\n",
    "    # modify the parameters\n",
    "    mod_x_params_ = tune_param(x_params_, c)\n",
    "    mod_params_ = tune_param(origin_params_, c)\n",
    "    print('modify parameters')\n",
    "    print(mod_x_params_)\n",
    "    print(mod_params_)\n",
    "    dri_channel = []\n",
    "    for q_i in qubit_:\n",
    "        dri_channel.append(pulse.DriveChannel(q_i))\n",
    "    update_x_gates([mod_x_params_], None, qubit_, inst_map_copy, dri_channel)\n",
    "    update_u_gates([mod_params_], None, qubit_, inst_map_copy, dri_channel)\n",
    "    get_single_q_pulse(inst_map_copy, [0])\n",
    "\n",
    "    return inst_map_copy"
   ],
   "metadata": {
    "collapsed": false,
    "pycharm": {
     "name": "#%%\n"
    }
   }
  },
  {
   "cell_type": "markdown",
   "source": [
    "load account"
   ],
   "metadata": {
    "collapsed": false,
    "pycharm": {
     "name": "#%% md\n"
    }
   }
  },
  {
   "cell_type": "code",
   "execution_count": 5,
   "outputs": [
    {
     "name": "stderr",
     "output_type": "stream",
     "text": [
      "/home/pyserver/miniconda3/lib/python3.8/site-packages/qiskit/providers/ibmq/ibmqfactory.py:192: UserWarning: Timestamps in IBMQ backend properties, jobs, and job results are all now in local time instead of UTC.\n",
      "  warnings.warn('Timestamps in IBMQ backend properties, jobs, and job results '\n"
     ]
    },
    {
     "data": {
      "text/plain": "<AccountProvider for IBMQ(hub='ibm-q', group='open', project='main')>"
     },
     "execution_count": 5,
     "metadata": {},
     "output_type": "execute_result"
    }
   ],
   "source": [
    "IBMQ.load_account()"
   ],
   "metadata": {
    "collapsed": false,
    "pycharm": {
     "name": "#%%\n"
    }
   }
  },
  {
   "cell_type": "code",
   "execution_count": 6,
   "outputs": [],
   "source": [
    "# backend_real = IBMQ.providers()[0].backends(open_pulse=True)[0]\n",
    "backend_real = IBMQ.providers()[1].backends.ibmq_bogota\n",
    "origin_inst_map = deepcopy(backend_real.defaults().instruction_schedule_map)\n",
    "# backend_real"
   ],
   "metadata": {
    "collapsed": false,
    "pycharm": {
     "name": "#%%\n"
    }
   }
  },
  {
   "cell_type": "code",
   "execution_count": 7,
   "outputs": [
    {
     "data": {
      "text/plain": "Schedule((0, ShiftPhase(-1.0, DriveChannel(0))), (0, ShiftPhase(-1.0, ControlChannel(1))), (0, Play(Drag(duration=160, amp=(-0.0006371499830915927+0.09754548275520072j), sigma=40, beta=0.38978502241609814), DriveChannel(0))), (160, ShiftPhase(-1.0, DriveChannel(0))), (160, ShiftPhase(-1.0, ControlChannel(1))), name=\"u2\")"
     },
     "execution_count": 7,
     "metadata": {},
     "output_type": "execute_result"
    }
   ],
   "source": [
    "origin_inst_map.get('u2', qubits=[0], P0=1, P1=1)"
   ],
   "metadata": {
    "collapsed": false,
    "pycharm": {
     "name": "#%%\n"
    }
   }
  },
  {
   "cell_type": "code",
   "execution_count": 10,
   "outputs": [
    {
     "name": "stdout",
     "output_type": "stream",
     "text": [
      "origin parameters\n",
      "{'duration': 160, 'amp': (0.1952823704554708+0j), 'sigma': 40, 'beta': -0.8873263338524642}\n",
      "{'duration': 160, 'amp': (0.09754548275520072+0.0006371499830915923j), 'sigma': 40, 'beta': 0.38978502241609814}\n",
      "modify parameters\n",
      "{'duration': 480, 'amp': (0.06509412348515693+0j), 'sigma': 120, 'beta': -0.8873263338524642}\n",
      "{'duration': 480, 'amp': (0.03251516091840024+0.00021238332769719744j), 'sigma': 120, 'beta': 0.38978502241609814}\n"
     ]
    }
   ],
   "source": [
    "# check the stretched function work\n",
    "# this procedure should be run for each time you change the c_j constant\n",
    "new_inst_map = mod_inst_map(origin_inst_map, 3, [0])\n",
    "backend_real.defaults().instruction_schedule_map = new_inst_map\n",
    "# get_single_q_pulse(new_inst_map, [0])\n",
    "# backend_real.configuration().num_qubits"
   ],
   "metadata": {
    "collapsed": false,
    "pycharm": {
     "name": "#%%\n"
    }
   }
  },
  {
   "cell_type": "code",
   "execution_count": null,
   "outputs": [
    {
     "name": "stdout",
     "output_type": "stream",
     "text": [
      "Cj =  1\n",
      "origin parameters\n",
      "{'duration': 160, 'amp': (0.1952823704554708+0j), 'sigma': 40, 'beta': -0.8873263338524642}\n",
      "{'duration': 160, 'amp': (0.09754548275520072+0.0006371499830915923j), 'sigma': 40, 'beta': 0.38978502241609814}\n",
      "modify parameters\n",
      "{'duration': 160, 'amp': (0.1952823704554708+0j), 'sigma': 40, 'beta': -0.8873263338524642}\n",
      "{'duration': 160, 'amp': (0.09754548275520072+0.0006371499830915923j), 'sigma': 40, 'beta': 0.38978502241609814}\n",
      "Compiling seed 0\n",
      "Simulating seed 0\n"
     ]
    },
    {
     "name": "stderr",
     "output_type": "stream",
     "text": [
      "/home/pyserver/miniconda3/lib/python3.8/site-packages/qiskit/compiler/assemble.py:320: RuntimeWarning: Dynamic rep rates not supported on this backend. rep_time will be used instead of rep_delay.\n",
      "  warnings.warn(\n"
     ]
    }
   ],
   "source": [
    "#Number of qubits\n",
    "nQ = 1\n",
    "#There are 3 qubits: Q0,Q1,Q2.\n",
    "#Number of seeds (random sequences)\n",
    "nseeds = 10\n",
    "#Number of Cliffords in the sequence (start, stop, steps)\n",
    "nCliffs = np.arange(1,100,5)\n",
    "#2Q RB on Q0,Q2 and 1Q RB on Q1\n",
    "rb_pattern = [[0]]\n",
    "#Do three times as any 1Q Cliffords\n",
    "length_multiplier = 1\n",
    "\n",
    "rb_opts = {'length_vector': nCliffs,\n",
    "           'nseeds': nseeds,\n",
    "           'rb_pattern': rb_pattern,\n",
    "           'length_multiplier': length_multiplier,\n",
    "           'group_gates': 'Clifford'}\n",
    "rb_circs, xdata = rb.randomized_benchmarking_seq(**rb_opts)\n",
    "\n",
    "# rb_circs[0][0].draw(output='mpl')\n",
    "\n",
    "# #Create a new circuit without the measurement\n",
    "# qc = qiskit.QuantumCircuit(*rb_circs[0][-1].qregs,*rb_circs[0][-1].cregs)\n",
    "# for i in rb_circs[0][-1][0:-nQ]:\n",
    "#     qc.data.append(i)\n",
    "\n",
    "#\n",
    "# #The Unitary is an identity (with a global phase)\n",
    "# backend = qiskit.Aer.get_backend('unitary_simulator')\n",
    "# basis_gates = ['u1', 'u2', 'u3', 'cx'] # use U,CX for now\n",
    "# job = qiskit.execute(qc, backend=backend, basis_gates=basis_gates)\n",
    "# print(np.around(job.result().get_unitary(), 3))\n",
    "\n",
    "# noise_model = NoiseModel()\n",
    "# p1Q = 0.002\n",
    "# p2Q = 0.01\n",
    "# noise_model.add_all_qubit_quantum_error(depolarizing_error(p1Q, 1), 'u2')\n",
    "# noise_model.add_all_qubit_quantum_error(depolarizing_error(2*p1Q, 1), 'u3')\n",
    "# noise_model.add_all_qubit_quantum_error(depolarizing_error(p2Q, 2), 'cx')\n",
    "\n",
    "c_list = [1, 2, 3]\n",
    "shots = 4096\n",
    "transpiled_circs_list = []\n",
    "ydata = []\n",
    "for ci in c_list:\n",
    "    print('Cj = ', ci)\n",
    "    temp_inst_map = mod_inst_map(origin_inst_map, ci, [0])\n",
    "    backend_real.defaults().instruction_schedule_map = temp_inst_map\n",
    "\n",
    "    # Create the RB fitter\n",
    "    # backend = qiskit.Aer.get_backend('qasm_simulator')\n",
    "    # basis_gates = ['u1','u2','u3','cx']\n",
    "\n",
    "    transpiled_circs_list = []\n",
    "    ydata_temp = []\n",
    "    rb_fit = rb.RBFitter(None, xdata, rb_opts['rb_pattern'])\n",
    "    for rb_seed, rb_circ_seed in enumerate(rb_circs):\n",
    "        print('Compiling seed %d'%rb_seed)\n",
    "        new_rb_circ_seed = qiskit.compiler.transpile(rb_circ_seed, backend_real, optimization_level=0, initial_layout=[0])\n",
    "        for i in range(nseeds):\n",
    "            transpiled_circs_list.append(new_rb_circ_seed[i])\n",
    "        print('Simulating seed %d'%rb_seed)\n",
    "        rb_sceldule = qiskit.schedule(new_rb_circ_seed, backend_real)\n",
    "        job = qiskit.execute(rb_sceldule, backend_real, shots=shots)\n",
    "        # Add data to the fitter\n",
    "        rb_fit.add_data(job.result())\n",
    "        print('After seed %d, alpha: %f, EPC: %f'%(rb_seed,rb_fit.fit[0]['params'][1], rb_fit.fit[0]['epc']))\n",
    "        ydata_temp.append(rb_fit.ydata[0]['mean'])\n",
    "    ydata.append(ydata_temp)"
   ],
   "metadata": {
    "collapsed": false,
    "pycharm": {
     "name": "#%%\n",
     "is_executing": true
    }
   }
  },
  {
   "cell_type": "code",
   "execution_count": null,
   "outputs": [],
   "source": [
    "plt.figure(figsize=(8, 6), facecolor='w')\n",
    "ax = plt.subplot(1, 1, 1)\n",
    "\n",
    "# Plot the essence by calling plot_rb_data\n",
    "rb_fit.plot_rb_data(0, ax=ax, add_label=True, show_plt=False)\n",
    "\n",
    "# Add title and label\n",
    "ax.set_title('%d Qubit RB'%(nQ), fontsize=18)\n",
    "\n",
    "plt.show()"
   ],
   "metadata": {
    "collapsed": false,
    "pycharm": {
     "name": "#%%\n"
    }
   }
  },
  {
   "cell_type": "code",
   "execution_count": null,
   "outputs": [],
   "source": [
    "c_list = [1, 2]\n",
    "print('c = ', c_list)\n",
    "\n",
    "def gamma_j(c_list_):\n",
    "    gamma_list = []\n",
    "    for j in range(len(c_list_)):\n",
    "        gamma_temp = 1\n",
    "        for m_a in range(j):\n",
    "            gamma_temp *= c_list_[m_a]/(c_list_[j]-c_list_[m_a])\n",
    "        for m_b in range(len(c_list_)-j-1):\n",
    "            gamma_temp *= c_list_[m_b+j+1]/(c_list_[j]-c_list_[m_b+j+1])\n",
    "        gamma_list.append(gamma_temp)\n",
    "    # if len(c_list_)%2==0:\n",
    "        # gamma_list *= (-1)\n",
    "    return gamma_list\n",
    "gamma_list = gamma_j(c_list)\n",
    "print(gamma_list)\n",
    "\n",
    "print('check constraints')\n",
    "print('j from 0 to n = ', len(c_list)-1)\n",
    "print('Summation of gamma_j = ',sum(gamma_list))\n",
    "rc = 0\n",
    "for k in range(len(c_list)-1):\n",
    "    for i in range(len(gamma_list)):\n",
    "        rc += c_list[i]**(k+1)*gamma_list[i]\n",
    "print('Summation of gamma_j * c_j**(from 1 to n) = ', rc)"
   ],
   "metadata": {
    "collapsed": false,
    "pycharm": {
     "name": "#%%\n"
    }
   }
  },
  {
   "cell_type": "code",
   "execution_count": 432,
   "outputs": [
    {
     "data": {
      "text/plain": "<Figure size 576x432 with 1 Axes>",
      "image/png": "[encoded data removed]"
     },
     "metadata": {},
     "output_type": "display_data"
    }
   ],
   "source": [
    "plt.figure(figsize=(8, 6), facecolor='w')\n",
    "plt.title('%d Qubit RB'%(nQ), fontsize=22)\n",
    "plt.xlabel('Clifford Length', fontsize=20)\n",
    "plt.ylabel('Ground State Population', fontsize=20)\n",
    "plt.xticks(fontsize='14')\n",
    "plt.yticks(fontsize='14')\n",
    "plt.grid()\n",
    "for i in range(len(c_list)):\n",
    "    plt.plot(xdata[0][0: 6], ydata[1][2][0: 6], 'b')\n",
    "plt.plot(xdata[0][0: 6], 2*ydata[0][2][0: 6]-ydata[1][2][0: 6], 'r')\n",
    "# plt.plot(xdata[0], 3*ydata[0][1]-3*ydata[1][1]+ydata[2][1])\n",
    "# plt.savefig('Richardson_RB_result.jpg', dpi=150)\n",
    "plt.show()"
   ],
   "metadata": {
    "collapsed": false,
    "pycharm": {
     "name": "#%%\n"
    }
   }
  }
 ],
 "metadata": {
  "kernelspec": {
   "display_name": "Python 3",
   "language": "python",
   "name": "python3"
  },
  "language_info": {
   "codemirror_mode": {
    "name": "ipython",
    "version": 2
   },
   "file_extension": ".py",
   "mimetype": "text/x-python",
   "name": "python",
   "nbconvert_exporter": "python",
   "pygments_lexer": "ipython2",
   "version": "2.7.6"
  }
 },
 "nbformat": 4,
 "nbformat_minor": 0
}